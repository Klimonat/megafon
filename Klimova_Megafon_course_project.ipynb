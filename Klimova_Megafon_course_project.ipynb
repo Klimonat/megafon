{
 "cells": [
  {
   "cell_type": "markdown",
   "metadata": {},
   "source": [
    "### Чтение данных"
   ]
  },
  {
   "cell_type": "code",
   "execution_count": 1,
   "metadata": {},
   "outputs": [],
   "source": [
    "import pandas as pd\n",
    "import dask.dataframe as dd\n",
    "import matplotlib.pyplot as plt\n",
    "from sklearn.model_selection import train_test_split, GridSearchCV\n",
    "import datetime as dtm\n",
    "import numpy as np\n",
    "from sklearn.preprocessing import StandardScaler\n",
    "from sklearn.pipeline import Pipeline\n",
    "from sklearn.ensemble import RandomForestClassifier, GradientBoostingClassifier\n",
    "from sklearn.metrics import f1_score, make_scorer\n",
    "from sklearn.decomposition import PCA\n",
    "from sklearn.linear_model import LogisticRegression\n",
    "from sklearn.neighbors import KNeighborsClassifier\n",
    "import warnings\n",
    "warnings.filterwarnings(\"ignore\")\n",
    "import pickle"
   ]
  },
  {
   "cell_type": "code",
   "execution_count": 2,
   "metadata": {},
   "outputs": [],
   "source": [
    "data_train = pd.read_csv('data_train.csv')\n",
    "data_test = pd.read_csv('data_test.csv')"
   ]
  },
  {
   "cell_type": "code",
   "execution_count": 3,
   "metadata": {},
   "outputs": [
    {
     "name": "stdout",
     "output_type": "stream",
     "text": [
      "Wall time: 224 ms\n"
     ]
    }
   ],
   "source": [
    "%%time\n",
    "df_features = dd.read_csv('features.csv', sep='\\t')"
   ]
  },
  {
   "cell_type": "markdown",
   "metadata": {},
   "source": [
    "### Визуальный просмотр данных и их размерностей"
   ]
  },
  {
   "cell_type": "code",
   "execution_count": 4,
   "metadata": {},
   "outputs": [
    {
     "data": {
      "text/html": [
       "<div>\n",
       "<style scoped>\n",
       "    .dataframe tbody tr th:only-of-type {\n",
       "        vertical-align: middle;\n",
       "    }\n",
       "\n",
       "    .dataframe tbody tr th {\n",
       "        vertical-align: top;\n",
       "    }\n",
       "\n",
       "    .dataframe thead th {\n",
       "        text-align: right;\n",
       "    }\n",
       "</style>\n",
       "<table border=\"1\" class=\"dataframe\">\n",
       "  <thead>\n",
       "    <tr style=\"text-align: right;\">\n",
       "      <th></th>\n",
       "      <th>Unnamed: 0</th>\n",
       "      <th>id</th>\n",
       "      <th>buy_time</th>\n",
       "      <th>0</th>\n",
       "      <th>1</th>\n",
       "      <th>2</th>\n",
       "      <th>3</th>\n",
       "      <th>4</th>\n",
       "      <th>5</th>\n",
       "      <th>6</th>\n",
       "      <th>...</th>\n",
       "      <th>243</th>\n",
       "      <th>244</th>\n",
       "      <th>245</th>\n",
       "      <th>246</th>\n",
       "      <th>247</th>\n",
       "      <th>248</th>\n",
       "      <th>249</th>\n",
       "      <th>250</th>\n",
       "      <th>251</th>\n",
       "      <th>252</th>\n",
       "    </tr>\n",
       "  </thead>\n",
       "  <tbody>\n",
       "    <tr>\n",
       "      <th>0</th>\n",
       "      <td>0</td>\n",
       "      <td>2013026</td>\n",
       "      <td>1531688400</td>\n",
       "      <td>18.910029</td>\n",
       "      <td>46.980888</td>\n",
       "      <td>4.969214</td>\n",
       "      <td>-1.386798</td>\n",
       "      <td>3.791754</td>\n",
       "      <td>-14.01179</td>\n",
       "      <td>-16.08618</td>\n",
       "      <td>...</td>\n",
       "      <td>-977.373846</td>\n",
       "      <td>-613.770792</td>\n",
       "      <td>-25.996269</td>\n",
       "      <td>-37.630448</td>\n",
       "      <td>-301.747724</td>\n",
       "      <td>-25.832889</td>\n",
       "      <td>-0.694428</td>\n",
       "      <td>-12.175933</td>\n",
       "      <td>-0.45614</td>\n",
       "      <td>0.0</td>\n",
       "    </tr>\n",
       "    <tr>\n",
       "      <th>1</th>\n",
       "      <td>1</td>\n",
       "      <td>2014722</td>\n",
       "      <td>1539550800</td>\n",
       "      <td>36.690029</td>\n",
       "      <td>152.400888</td>\n",
       "      <td>448.069214</td>\n",
       "      <td>563.833202</td>\n",
       "      <td>463.841754</td>\n",
       "      <td>568.99821</td>\n",
       "      <td>-16.08618</td>\n",
       "      <td>...</td>\n",
       "      <td>-891.373846</td>\n",
       "      <td>-544.770792</td>\n",
       "      <td>-20.996269</td>\n",
       "      <td>48.369552</td>\n",
       "      <td>80.252276</td>\n",
       "      <td>-13.832889</td>\n",
       "      <td>-0.694428</td>\n",
       "      <td>-1.175933</td>\n",
       "      <td>-0.45614</td>\n",
       "      <td>0.0</td>\n",
       "    </tr>\n",
       "    <tr>\n",
       "      <th>2</th>\n",
       "      <td>2</td>\n",
       "      <td>2015199</td>\n",
       "      <td>1545598800</td>\n",
       "      <td>-67.019971</td>\n",
       "      <td>157.050888</td>\n",
       "      <td>-63.180786</td>\n",
       "      <td>178.103202</td>\n",
       "      <td>-68.598246</td>\n",
       "      <td>156.99821</td>\n",
       "      <td>3.51382</td>\n",
       "      <td>...</td>\n",
       "      <td>-977.373846</td>\n",
       "      <td>-613.770792</td>\n",
       "      <td>-12.996269</td>\n",
       "      <td>-37.630448</td>\n",
       "      <td>10829.252276</td>\n",
       "      <td>-25.832889</td>\n",
       "      <td>-0.694428</td>\n",
       "      <td>-12.175933</td>\n",
       "      <td>-0.45614</td>\n",
       "      <td>0.0</td>\n",
       "    </tr>\n",
       "    <tr>\n",
       "      <th>3</th>\n",
       "      <td>3</td>\n",
       "      <td>2021765</td>\n",
       "      <td>1534107600</td>\n",
       "      <td>7.010029</td>\n",
       "      <td>150.200888</td>\n",
       "      <td>-6.930786</td>\n",
       "      <td>216.213202</td>\n",
       "      <td>76.621754</td>\n",
       "      <td>351.84821</td>\n",
       "      <td>-16.08618</td>\n",
       "      <td>...</td>\n",
       "      <td>-973.373846</td>\n",
       "      <td>-613.770792</td>\n",
       "      <td>-23.996269</td>\n",
       "      <td>-37.630448</td>\n",
       "      <td>-205.747724</td>\n",
       "      <td>-24.832889</td>\n",
       "      <td>-0.694428</td>\n",
       "      <td>-11.175933</td>\n",
       "      <td>-0.45614</td>\n",
       "      <td>1.0</td>\n",
       "    </tr>\n",
       "    <tr>\n",
       "      <th>4</th>\n",
       "      <td>4</td>\n",
       "      <td>2027465</td>\n",
       "      <td>1533502800</td>\n",
       "      <td>-90.439971</td>\n",
       "      <td>134.220888</td>\n",
       "      <td>-104.380786</td>\n",
       "      <td>153.643202</td>\n",
       "      <td>-109.798246</td>\n",
       "      <td>132.53821</td>\n",
       "      <td>-16.08618</td>\n",
       "      <td>...</td>\n",
       "      <td>1643.626154</td>\n",
       "      <td>2007.229208</td>\n",
       "      <td>206.003731</td>\n",
       "      <td>-21.630448</td>\n",
       "      <td>6667.252276</td>\n",
       "      <td>92.167111</td>\n",
       "      <td>-0.694428</td>\n",
       "      <td>49.824067</td>\n",
       "      <td>47.54386</td>\n",
       "      <td>0.0</td>\n",
       "    </tr>\n",
       "  </tbody>\n",
       "</table>\n",
       "<p>5 rows × 256 columns</p>\n",
       "</div>"
      ],
      "text/plain": [
       "   Unnamed: 0       id    buy_time          0           1           2  \\\n",
       "0           0  2013026  1531688400  18.910029   46.980888    4.969214   \n",
       "1           1  2014722  1539550800  36.690029  152.400888  448.069214   \n",
       "2           2  2015199  1545598800 -67.019971  157.050888  -63.180786   \n",
       "3           3  2021765  1534107600   7.010029  150.200888   -6.930786   \n",
       "4           4  2027465  1533502800 -90.439971  134.220888 -104.380786   \n",
       "\n",
       "            3           4          5         6  ...          243          244  \\\n",
       "0   -1.386798    3.791754  -14.01179 -16.08618  ...  -977.373846  -613.770792   \n",
       "1  563.833202  463.841754  568.99821 -16.08618  ...  -891.373846  -544.770792   \n",
       "2  178.103202  -68.598246  156.99821   3.51382  ...  -977.373846  -613.770792   \n",
       "3  216.213202   76.621754  351.84821 -16.08618  ...  -973.373846  -613.770792   \n",
       "4  153.643202 -109.798246  132.53821 -16.08618  ...  1643.626154  2007.229208   \n",
       "\n",
       "          245        246           247        248       249        250  \\\n",
       "0  -25.996269 -37.630448   -301.747724 -25.832889 -0.694428 -12.175933   \n",
       "1  -20.996269  48.369552     80.252276 -13.832889 -0.694428  -1.175933   \n",
       "2  -12.996269 -37.630448  10829.252276 -25.832889 -0.694428 -12.175933   \n",
       "3  -23.996269 -37.630448   -205.747724 -24.832889 -0.694428 -11.175933   \n",
       "4  206.003731 -21.630448   6667.252276  92.167111 -0.694428  49.824067   \n",
       "\n",
       "        251  252  \n",
       "0  -0.45614  0.0  \n",
       "1  -0.45614  0.0  \n",
       "2  -0.45614  0.0  \n",
       "3  -0.45614  1.0  \n",
       "4  47.54386  0.0  \n",
       "\n",
       "[5 rows x 256 columns]"
      ]
     },
     "execution_count": 4,
     "metadata": {},
     "output_type": "execute_result"
    }
   ],
   "source": [
    "df_features.head()"
   ]
  },
  {
   "cell_type": "code",
   "execution_count": 5,
   "metadata": {},
   "outputs": [
    {
     "data": {
      "text/html": [
       "<div>\n",
       "<style scoped>\n",
       "    .dataframe tbody tr th:only-of-type {\n",
       "        vertical-align: middle;\n",
       "    }\n",
       "\n",
       "    .dataframe tbody tr th {\n",
       "        vertical-align: top;\n",
       "    }\n",
       "\n",
       "    .dataframe thead th {\n",
       "        text-align: right;\n",
       "    }\n",
       "</style>\n",
       "<table border=\"1\" class=\"dataframe\">\n",
       "  <thead>\n",
       "    <tr style=\"text-align: right;\">\n",
       "      <th></th>\n",
       "      <th>Unnamed: 0</th>\n",
       "      <th>id</th>\n",
       "      <th>vas_id</th>\n",
       "      <th>buy_time</th>\n",
       "      <th>target</th>\n",
       "    </tr>\n",
       "  </thead>\n",
       "  <tbody>\n",
       "    <tr>\n",
       "      <th>0</th>\n",
       "      <td>0</td>\n",
       "      <td>540968</td>\n",
       "      <td>8.0</td>\n",
       "      <td>1537131600</td>\n",
       "      <td>0.0</td>\n",
       "    </tr>\n",
       "    <tr>\n",
       "      <th>1</th>\n",
       "      <td>1</td>\n",
       "      <td>1454121</td>\n",
       "      <td>4.0</td>\n",
       "      <td>1531688400</td>\n",
       "      <td>0.0</td>\n",
       "    </tr>\n",
       "    <tr>\n",
       "      <th>2</th>\n",
       "      <td>2</td>\n",
       "      <td>2458816</td>\n",
       "      <td>1.0</td>\n",
       "      <td>1534107600</td>\n",
       "      <td>0.0</td>\n",
       "    </tr>\n",
       "    <tr>\n",
       "      <th>3</th>\n",
       "      <td>3</td>\n",
       "      <td>3535012</td>\n",
       "      <td>5.0</td>\n",
       "      <td>1535922000</td>\n",
       "      <td>0.0</td>\n",
       "    </tr>\n",
       "    <tr>\n",
       "      <th>4</th>\n",
       "      <td>4</td>\n",
       "      <td>1693214</td>\n",
       "      <td>1.0</td>\n",
       "      <td>1535922000</td>\n",
       "      <td>0.0</td>\n",
       "    </tr>\n",
       "  </tbody>\n",
       "</table>\n",
       "</div>"
      ],
      "text/plain": [
       "   Unnamed: 0       id  vas_id    buy_time  target\n",
       "0           0   540968     8.0  1537131600     0.0\n",
       "1           1  1454121     4.0  1531688400     0.0\n",
       "2           2  2458816     1.0  1534107600     0.0\n",
       "3           3  3535012     5.0  1535922000     0.0\n",
       "4           4  1693214     1.0  1535922000     0.0"
      ]
     },
     "execution_count": 5,
     "metadata": {},
     "output_type": "execute_result"
    }
   ],
   "source": [
    "data_train.head()"
   ]
  },
  {
   "cell_type": "code",
   "execution_count": 6,
   "metadata": {},
   "outputs": [
    {
     "data": {
      "text/plain": [
       "array([1537131600, 1531688400, 1534107600, 1535922000, 1532898000,\n",
       "       1544994000, 1545598800, 1534712400, 1541970000, 1538341200,\n",
       "       1533502800, 1541365200, 1539550800, 1536526800, 1546203600,\n",
       "       1532293200, 1544389200, 1542574800, 1537736400, 1535317200,\n",
       "       1540760400, 1531083600, 1538946000, 1540155600, 1543784400,\n",
       "       1543179600], dtype=int64)"
      ]
     },
     "execution_count": 6,
     "metadata": {},
     "output_type": "execute_result"
    }
   ],
   "source": [
    "data_train['buy_time'].unique()"
   ]
  },
  {
   "cell_type": "code",
   "execution_count": 7,
   "metadata": {},
   "outputs": [
    {
     "data": {
      "text/plain": [
       "0      1531688400\n",
       "1      1539550800\n",
       "2      1545598800\n",
       "3      1534107600\n",
       "4      1533502800\n",
       "6      1544994000\n",
       "7      1537736400\n",
       "9      1544389200\n",
       "10     1536526800\n",
       "11     1535317200\n",
       "13     1534712400\n",
       "14     1542574800\n",
       "16     1540760400\n",
       "18     1540155600\n",
       "23     1541365200\n",
       "26     1537131600\n",
       "28     1531083600\n",
       "33     1538341200\n",
       "34     1532293200\n",
       "40     1546203600\n",
       "46     1535922000\n",
       "51     1538946000\n",
       "55     1547413200\n",
       "57     1543784400\n",
       "64     1548018000\n",
       "67     1541970000\n",
       "69     1532898000\n",
       "148    1546808400\n",
       "165    1543179600\n",
       "Name: buy_time, dtype: int64"
      ]
     },
     "execution_count": 7,
     "metadata": {},
     "output_type": "execute_result"
    }
   ],
   "source": [
    "df_features['buy_time'].drop_duplicates().compute()"
   ]
  },
  {
   "cell_type": "code",
   "execution_count": 8,
   "metadata": {},
   "outputs": [
    {
     "data": {
      "text/plain": [
       "(831653, 5)"
      ]
     },
     "execution_count": 8,
     "metadata": {},
     "output_type": "execute_result"
    }
   ],
   "source": [
    "data_train.shape"
   ]
  },
  {
   "cell_type": "code",
   "execution_count": 9,
   "metadata": {},
   "outputs": [
    {
     "name": "stdout",
     "output_type": "stream",
     "text": [
      "Wall time: 3min 44s\n"
     ]
    },
    {
     "data": {
      "text/plain": [
       "4512528"
      ]
     },
     "execution_count": 9,
     "metadata": {},
     "output_type": "execute_result"
    }
   ],
   "source": [
    "%%time\n",
    "df_features.shape[0].compute()"
   ]
  },
  {
   "cell_type": "markdown",
   "metadata": {},
   "source": [
    "### Слияние данных"
   ]
  },
  {
   "cell_type": "code",
   "execution_count": 10,
   "metadata": {},
   "outputs": [],
   "source": [
    "id_in_train = list(data_train.id)\n",
    "id_in_test = list(data_test.id)"
   ]
  },
  {
   "cell_type": "code",
   "execution_count": 11,
   "metadata": {},
   "outputs": [
    {
     "name": "stdout",
     "output_type": "stream",
     "text": [
      "831653\n",
      "71231\n"
     ]
    }
   ],
   "source": [
    "print(len(id_in_train))\n",
    "print(len(id_in_test))"
   ]
  },
  {
   "cell_type": "code",
   "execution_count": 12,
   "metadata": {},
   "outputs": [
    {
     "data": {
      "text/plain": [
       "(Delayed('int-fc5500fe-a79e-428a-ac65-220b9308c0be'), 256)"
      ]
     },
     "execution_count": 12,
     "metadata": {},
     "output_type": "execute_result"
    }
   ],
   "source": [
    "df_features.shape"
   ]
  },
  {
   "cell_type": "code",
   "execution_count": 13,
   "metadata": {},
   "outputs": [
    {
     "name": "stdout",
     "output_type": "stream",
     "text": [
      "Wall time: 3.02 s\n"
     ]
    }
   ],
   "source": [
    "%%time\n",
    "df_features_for_train = df_features[df_features.id.isin(id_in_train)]"
   ]
  },
  {
   "cell_type": "code",
   "execution_count": 14,
   "metadata": {},
   "outputs": [
    {
     "name": "stdout",
     "output_type": "stream",
     "text": [
      "Wall time: 3min 58s\n"
     ]
    }
   ],
   "source": [
    "%%time\n",
    "df_features_for_train_in_pd = df_features_for_train.compute()"
   ]
  },
  {
   "cell_type": "code",
   "execution_count": 15,
   "metadata": {},
   "outputs": [
    {
     "data": {
      "text/plain": [
       "(834168, 256)"
      ]
     },
     "execution_count": 15,
     "metadata": {},
     "output_type": "execute_result"
    }
   ],
   "source": [
    "df_features_for_train_in_pd.shape"
   ]
  },
  {
   "cell_type": "code",
   "execution_count": 16,
   "metadata": {},
   "outputs": [
    {
     "name": "stdout",
     "output_type": "stream",
     "text": [
      "Wall time: 209 ms\n"
     ]
    }
   ],
   "source": [
    "%%time\n",
    "df_features_for_test = df_features[df_features.id.isin(id_in_test)]"
   ]
  },
  {
   "cell_type": "code",
   "execution_count": 17,
   "metadata": {},
   "outputs": [
    {
     "name": "stdout",
     "output_type": "stream",
     "text": [
      "Wall time: 3min 37s\n"
     ]
    }
   ],
   "source": [
    "%%time\n",
    "df_features_for_test_in_pd = df_features_for_test.compute()"
   ]
  },
  {
   "cell_type": "code",
   "execution_count": 18,
   "metadata": {},
   "outputs": [
    {
     "data": {
      "text/plain": [
       "(72552, 256)"
      ]
     },
     "execution_count": 18,
     "metadata": {},
     "output_type": "execute_result"
    }
   ],
   "source": [
    "df_features_for_test_in_pd.shape"
   ]
  },
  {
   "cell_type": "code",
   "execution_count": 19,
   "metadata": {},
   "outputs": [
    {
     "data": {
      "text/html": [
       "<div>\n",
       "<style scoped>\n",
       "    .dataframe tbody tr th:only-of-type {\n",
       "        vertical-align: middle;\n",
       "    }\n",
       "\n",
       "    .dataframe tbody tr th {\n",
       "        vertical-align: top;\n",
       "    }\n",
       "\n",
       "    .dataframe thead th {\n",
       "        text-align: right;\n",
       "    }\n",
       "</style>\n",
       "<table border=\"1\" class=\"dataframe\">\n",
       "  <thead>\n",
       "    <tr style=\"text-align: right;\">\n",
       "      <th></th>\n",
       "      <th>Unnamed: 0</th>\n",
       "      <th>id</th>\n",
       "      <th>vas_id</th>\n",
       "      <th>buy_time</th>\n",
       "      <th>target</th>\n",
       "    </tr>\n",
       "  </thead>\n",
       "  <tbody>\n",
       "    <tr>\n",
       "      <th>0</th>\n",
       "      <td>0</td>\n",
       "      <td>540968</td>\n",
       "      <td>8.0</td>\n",
       "      <td>1537131600</td>\n",
       "      <td>0.0</td>\n",
       "    </tr>\n",
       "    <tr>\n",
       "      <th>1</th>\n",
       "      <td>1</td>\n",
       "      <td>1454121</td>\n",
       "      <td>4.0</td>\n",
       "      <td>1531688400</td>\n",
       "      <td>0.0</td>\n",
       "    </tr>\n",
       "    <tr>\n",
       "      <th>2</th>\n",
       "      <td>2</td>\n",
       "      <td>2458816</td>\n",
       "      <td>1.0</td>\n",
       "      <td>1534107600</td>\n",
       "      <td>0.0</td>\n",
       "    </tr>\n",
       "    <tr>\n",
       "      <th>3</th>\n",
       "      <td>3</td>\n",
       "      <td>3535012</td>\n",
       "      <td>5.0</td>\n",
       "      <td>1535922000</td>\n",
       "      <td>0.0</td>\n",
       "    </tr>\n",
       "    <tr>\n",
       "      <th>4</th>\n",
       "      <td>4</td>\n",
       "      <td>1693214</td>\n",
       "      <td>1.0</td>\n",
       "      <td>1535922000</td>\n",
       "      <td>0.0</td>\n",
       "    </tr>\n",
       "  </tbody>\n",
       "</table>\n",
       "</div>"
      ],
      "text/plain": [
       "   Unnamed: 0       id  vas_id    buy_time  target\n",
       "0           0   540968     8.0  1537131600     0.0\n",
       "1           1  1454121     4.0  1531688400     0.0\n",
       "2           2  2458816     1.0  1534107600     0.0\n",
       "3           3  3535012     5.0  1535922000     0.0\n",
       "4           4  1693214     1.0  1535922000     0.0"
      ]
     },
     "execution_count": 19,
     "metadata": {},
     "output_type": "execute_result"
    }
   ],
   "source": [
    "data_train.head()"
   ]
  },
  {
   "cell_type": "code",
   "execution_count": 20,
   "metadata": {},
   "outputs": [],
   "source": [
    "sort_data_train = data_train.sort_values(by='id')\n",
    "sort_df_features_for_train_in_pd = df_features_for_train_in_pd.sort_values(by='id')"
   ]
  },
  {
   "cell_type": "code",
   "execution_count": 21,
   "metadata": {},
   "outputs": [],
   "source": [
    "sort_data_test = data_test.sort_values(by='id')\n",
    "sort_df_features_for_test_in_pd = df_features_for_test_in_pd.sort_values(by='id')"
   ]
  },
  {
   "cell_type": "code",
   "execution_count": 22,
   "metadata": {},
   "outputs": [
    {
     "name": "stdout",
     "output_type": "stream",
     "text": [
      "Wall time: 15.1 s\n"
     ]
    }
   ],
   "source": [
    "%%time\n",
    "full_train = pd.merge_asof(sort_data_train, sort_df_features_for_train_in_pd, on='id', by='buy_time', direction='nearest')"
   ]
  },
  {
   "cell_type": "code",
   "execution_count": 23,
   "metadata": {},
   "outputs": [
    {
     "data": {
      "text/plain": [
       "(831653, 259)"
      ]
     },
     "execution_count": 23,
     "metadata": {},
     "output_type": "execute_result"
    }
   ],
   "source": [
    "full_train.shape"
   ]
  },
  {
   "cell_type": "code",
   "execution_count": 24,
   "metadata": {},
   "outputs": [
    {
     "name": "stdout",
     "output_type": "stream",
     "text": [
      "Wall time: 551 ms\n"
     ]
    }
   ],
   "source": [
    "%%time\n",
    "full_test = pd.merge_asof(sort_data_test, sort_df_features_for_test_in_pd, on='id', by='buy_time', direction='nearest')"
   ]
  },
  {
   "cell_type": "code",
   "execution_count": 25,
   "metadata": {},
   "outputs": [
    {
     "data": {
      "text/plain": [
       "(71231, 258)"
      ]
     },
     "execution_count": 25,
     "metadata": {},
     "output_type": "execute_result"
    }
   ],
   "source": [
    "full_test.shape"
   ]
  },
  {
   "cell_type": "code",
   "execution_count": 26,
   "metadata": {},
   "outputs": [
    {
     "data": {
      "text/html": [
       "<div>\n",
       "<style scoped>\n",
       "    .dataframe tbody tr th:only-of-type {\n",
       "        vertical-align: middle;\n",
       "    }\n",
       "\n",
       "    .dataframe tbody tr th {\n",
       "        vertical-align: top;\n",
       "    }\n",
       "\n",
       "    .dataframe thead th {\n",
       "        text-align: right;\n",
       "    }\n",
       "</style>\n",
       "<table border=\"1\" class=\"dataframe\">\n",
       "  <thead>\n",
       "    <tr style=\"text-align: right;\">\n",
       "      <th></th>\n",
       "      <th>Unnamed: 0_x</th>\n",
       "      <th>id</th>\n",
       "      <th>vas_id</th>\n",
       "      <th>buy_time</th>\n",
       "      <th>Unnamed: 0_y</th>\n",
       "      <th>0</th>\n",
       "      <th>1</th>\n",
       "      <th>2</th>\n",
       "      <th>3</th>\n",
       "      <th>4</th>\n",
       "      <th>...</th>\n",
       "      <th>243</th>\n",
       "      <th>244</th>\n",
       "      <th>245</th>\n",
       "      <th>246</th>\n",
       "      <th>247</th>\n",
       "      <th>248</th>\n",
       "      <th>249</th>\n",
       "      <th>250</th>\n",
       "      <th>251</th>\n",
       "      <th>252</th>\n",
       "    </tr>\n",
       "  </thead>\n",
       "  <tbody>\n",
       "    <tr>\n",
       "      <th>0</th>\n",
       "      <td>87</td>\n",
       "      <td>55</td>\n",
       "      <td>2.0</td>\n",
       "      <td>1547413200</td>\n",
       "      <td>2266581</td>\n",
       "      <td>-23.859971</td>\n",
       "      <td>-105.359112</td>\n",
       "      <td>-37.800786</td>\n",
       "      <td>-153.726798</td>\n",
       "      <td>-43.218246</td>\n",
       "      <td>...</td>\n",
       "      <td>-977.373846</td>\n",
       "      <td>-613.770792</td>\n",
       "      <td>-24.996269</td>\n",
       "      <td>48.369552</td>\n",
       "      <td>-244.747724</td>\n",
       "      <td>-24.832889</td>\n",
       "      <td>-0.694428</td>\n",
       "      <td>-12.175933</td>\n",
       "      <td>-0.45614</td>\n",
       "      <td>0.0</td>\n",
       "    </tr>\n",
       "    <tr>\n",
       "      <th>1</th>\n",
       "      <td>98</td>\n",
       "      <td>64</td>\n",
       "      <td>4.0</td>\n",
       "      <td>1548018000</td>\n",
       "      <td>3102545</td>\n",
       "      <td>-93.799971</td>\n",
       "      <td>-337.249112</td>\n",
       "      <td>-107.740786</td>\n",
       "      <td>-360.686798</td>\n",
       "      <td>-113.158246</td>\n",
       "      <td>...</td>\n",
       "      <td>934.626154</td>\n",
       "      <td>-611.770792</td>\n",
       "      <td>-25.996269</td>\n",
       "      <td>3571.369552</td>\n",
       "      <td>-120.747724</td>\n",
       "      <td>25.167111</td>\n",
       "      <td>-0.694428</td>\n",
       "      <td>-12.175933</td>\n",
       "      <td>-0.45614</td>\n",
       "      <td>1.0</td>\n",
       "    </tr>\n",
       "    <tr>\n",
       "      <th>2</th>\n",
       "      <td>278</td>\n",
       "      <td>151</td>\n",
       "      <td>2.0</td>\n",
       "      <td>1547413200</td>\n",
       "      <td>2266581</td>\n",
       "      <td>-23.859971</td>\n",
       "      <td>-105.359112</td>\n",
       "      <td>-37.800786</td>\n",
       "      <td>-153.726798</td>\n",
       "      <td>-43.218246</td>\n",
       "      <td>...</td>\n",
       "      <td>-977.373846</td>\n",
       "      <td>-613.770792</td>\n",
       "      <td>-24.996269</td>\n",
       "      <td>48.369552</td>\n",
       "      <td>-244.747724</td>\n",
       "      <td>-24.832889</td>\n",
       "      <td>-0.694428</td>\n",
       "      <td>-12.175933</td>\n",
       "      <td>-0.45614</td>\n",
       "      <td>0.0</td>\n",
       "    </tr>\n",
       "    <tr>\n",
       "      <th>3</th>\n",
       "      <td>552</td>\n",
       "      <td>274</td>\n",
       "      <td>4.0</td>\n",
       "      <td>1548018000</td>\n",
       "      <td>3102545</td>\n",
       "      <td>-93.799971</td>\n",
       "      <td>-337.249112</td>\n",
       "      <td>-107.740786</td>\n",
       "      <td>-360.686798</td>\n",
       "      <td>-113.158246</td>\n",
       "      <td>...</td>\n",
       "      <td>934.626154</td>\n",
       "      <td>-611.770792</td>\n",
       "      <td>-25.996269</td>\n",
       "      <td>3571.369552</td>\n",
       "      <td>-120.747724</td>\n",
       "      <td>25.167111</td>\n",
       "      <td>-0.694428</td>\n",
       "      <td>-12.175933</td>\n",
       "      <td>-0.45614</td>\n",
       "      <td>1.0</td>\n",
       "    </tr>\n",
       "    <tr>\n",
       "      <th>4</th>\n",
       "      <td>551</td>\n",
       "      <td>274</td>\n",
       "      <td>2.0</td>\n",
       "      <td>1547413200</td>\n",
       "      <td>2266581</td>\n",
       "      <td>-23.859971</td>\n",
       "      <td>-105.359112</td>\n",
       "      <td>-37.800786</td>\n",
       "      <td>-153.726798</td>\n",
       "      <td>-43.218246</td>\n",
       "      <td>...</td>\n",
       "      <td>-977.373846</td>\n",
       "      <td>-613.770792</td>\n",
       "      <td>-24.996269</td>\n",
       "      <td>48.369552</td>\n",
       "      <td>-244.747724</td>\n",
       "      <td>-24.832889</td>\n",
       "      <td>-0.694428</td>\n",
       "      <td>-12.175933</td>\n",
       "      <td>-0.45614</td>\n",
       "      <td>0.0</td>\n",
       "    </tr>\n",
       "  </tbody>\n",
       "</table>\n",
       "<p>5 rows × 258 columns</p>\n",
       "</div>"
      ],
      "text/plain": [
       "   Unnamed: 0_x   id  vas_id    buy_time  Unnamed: 0_y          0           1  \\\n",
       "0            87   55     2.0  1547413200       2266581 -23.859971 -105.359112   \n",
       "1            98   64     4.0  1548018000       3102545 -93.799971 -337.249112   \n",
       "2           278  151     2.0  1547413200       2266581 -23.859971 -105.359112   \n",
       "3           552  274     4.0  1548018000       3102545 -93.799971 -337.249112   \n",
       "4           551  274     2.0  1547413200       2266581 -23.859971 -105.359112   \n",
       "\n",
       "            2           3           4  ...         243         244        245  \\\n",
       "0  -37.800786 -153.726798  -43.218246  ... -977.373846 -613.770792 -24.996269   \n",
       "1 -107.740786 -360.686798 -113.158246  ...  934.626154 -611.770792 -25.996269   \n",
       "2  -37.800786 -153.726798  -43.218246  ... -977.373846 -613.770792 -24.996269   \n",
       "3 -107.740786 -360.686798 -113.158246  ...  934.626154 -611.770792 -25.996269   \n",
       "4  -37.800786 -153.726798  -43.218246  ... -977.373846 -613.770792 -24.996269   \n",
       "\n",
       "           246         247        248       249        250      251  252  \n",
       "0    48.369552 -244.747724 -24.832889 -0.694428 -12.175933 -0.45614  0.0  \n",
       "1  3571.369552 -120.747724  25.167111 -0.694428 -12.175933 -0.45614  1.0  \n",
       "2    48.369552 -244.747724 -24.832889 -0.694428 -12.175933 -0.45614  0.0  \n",
       "3  3571.369552 -120.747724  25.167111 -0.694428 -12.175933 -0.45614  1.0  \n",
       "4    48.369552 -244.747724 -24.832889 -0.694428 -12.175933 -0.45614  0.0  \n",
       "\n",
       "[5 rows x 258 columns]"
      ]
     },
     "execution_count": 26,
     "metadata": {},
     "output_type": "execute_result"
    }
   ],
   "source": [
    "full_test.head()"
   ]
  },
  {
   "cell_type": "code",
   "execution_count": 27,
   "metadata": {},
   "outputs": [],
   "source": [
    "# %%time\n",
    "# full_train.reset_index(drop=True).to_csv('full_train.csv')\n",
    "# full_test.reset_index(drop=True).to_csv('full_test.csv')"
   ]
  },
  {
   "cell_type": "code",
   "execution_count": 28,
   "metadata": {},
   "outputs": [],
   "source": [
    "del df_features\n",
    "del data_train\n",
    "del df_features_for_train\n",
    "del df_features_for_test\n",
    "del df_features_for_train_in_pd\n",
    "del df_features_for_test_in_pd\n",
    "del sort_data_train\n",
    "del sort_df_features_for_train_in_pd\n",
    "del sort_data_test\n",
    "del sort_df_features_for_test_in_pd"
   ]
  },
  {
   "cell_type": "markdown",
   "metadata": {},
   "source": [
    "### Подготовка данных"
   ]
  },
  {
   "cell_type": "code",
   "execution_count": 29,
   "metadata": {},
   "outputs": [],
   "source": [
    "# %%time\n",
    "# full_train = pd.read_csv('full_train.csv')\n",
    "# full_test = pd.read_csv('full_test.csv')"
   ]
  },
  {
   "cell_type": "code",
   "execution_count": 30,
   "metadata": {},
   "outputs": [
    {
     "name": "stdout",
     "output_type": "stream",
     "text": [
      "<class 'pandas.core.frame.DataFrame'>\n",
      "Int64Index: 831653 entries, 0 to 831652\n",
      "Columns: 259 entries, Unnamed: 0_x to 252\n",
      "dtypes: float64(255), int64(4)\n",
      "memory usage: 1.6 GB\n"
     ]
    }
   ],
   "source": [
    "full_train.info()"
   ]
  },
  {
   "cell_type": "code",
   "execution_count": 31,
   "metadata": {},
   "outputs": [
    {
     "data": {
      "text/html": [
       "<div>\n",
       "<style scoped>\n",
       "    .dataframe tbody tr th:only-of-type {\n",
       "        vertical-align: middle;\n",
       "    }\n",
       "\n",
       "    .dataframe tbody tr th {\n",
       "        vertical-align: top;\n",
       "    }\n",
       "\n",
       "    .dataframe thead th {\n",
       "        text-align: right;\n",
       "    }\n",
       "</style>\n",
       "<table border=\"1\" class=\"dataframe\">\n",
       "  <thead>\n",
       "    <tr style=\"text-align: right;\">\n",
       "      <th></th>\n",
       "      <th>Unnamed: 0_x</th>\n",
       "      <th>id</th>\n",
       "      <th>vas_id</th>\n",
       "      <th>buy_time</th>\n",
       "      <th>target</th>\n",
       "      <th>Unnamed: 0_y</th>\n",
       "      <th>0</th>\n",
       "      <th>1</th>\n",
       "      <th>2</th>\n",
       "      <th>3</th>\n",
       "      <th>...</th>\n",
       "      <th>243</th>\n",
       "      <th>244</th>\n",
       "      <th>245</th>\n",
       "      <th>246</th>\n",
       "      <th>247</th>\n",
       "      <th>248</th>\n",
       "      <th>249</th>\n",
       "      <th>250</th>\n",
       "      <th>251</th>\n",
       "      <th>252</th>\n",
       "    </tr>\n",
       "  </thead>\n",
       "  <tbody>\n",
       "    <tr>\n",
       "      <th>count</th>\n",
       "      <td>831653.000000</td>\n",
       "      <td>8.316530e+05</td>\n",
       "      <td>831653.000000</td>\n",
       "      <td>8.316530e+05</td>\n",
       "      <td>831653.000000</td>\n",
       "      <td>8.316530e+05</td>\n",
       "      <td>831653.000000</td>\n",
       "      <td>831653.000000</td>\n",
       "      <td>831653.000000</td>\n",
       "      <td>831653.000000</td>\n",
       "      <td>...</td>\n",
       "      <td>831653.000000</td>\n",
       "      <td>831653.000000</td>\n",
       "      <td>831653.000000</td>\n",
       "      <td>831653.000000</td>\n",
       "      <td>831653.000000</td>\n",
       "      <td>831653.000000</td>\n",
       "      <td>831653.000000</td>\n",
       "      <td>831653.000000</td>\n",
       "      <td>831653.000000</td>\n",
       "      <td>831653.000000</td>\n",
       "    </tr>\n",
       "    <tr>\n",
       "      <th>mean</th>\n",
       "      <td>415826.000000</td>\n",
       "      <td>2.158304e+06</td>\n",
       "      <td>2.686185</td>\n",
       "      <td>1.538937e+09</td>\n",
       "      <td>0.072369</td>\n",
       "      <td>2.254994e+06</td>\n",
       "      <td>2.062392</td>\n",
       "      <td>5.161329</td>\n",
       "      <td>1.987254</td>\n",
       "      <td>5.766886</td>\n",
       "      <td>...</td>\n",
       "      <td>-42.733928</td>\n",
       "      <td>-28.101598</td>\n",
       "      <td>-2.797341</td>\n",
       "      <td>-4.402215</td>\n",
       "      <td>-11.587021</td>\n",
       "      <td>-1.660674</td>\n",
       "      <td>-0.039381</td>\n",
       "      <td>0.884418</td>\n",
       "      <td>0.013525</td>\n",
       "      <td>0.268059</td>\n",
       "    </tr>\n",
       "    <tr>\n",
       "      <th>std</th>\n",
       "      <td>240077.686048</td>\n",
       "      <td>1.257907e+06</td>\n",
       "      <td>1.952034</td>\n",
       "      <td>5.019053e+06</td>\n",
       "      <td>0.259098</td>\n",
       "      <td>1.302122e+06</td>\n",
       "      <td>302.308236</td>\n",
       "      <td>495.918888</td>\n",
       "      <td>309.148563</td>\n",
       "      <td>576.275542</td>\n",
       "      <td>...</td>\n",
       "      <td>3110.526314</td>\n",
       "      <td>2146.368014</td>\n",
       "      <td>837.827712</td>\n",
       "      <td>245.841644</td>\n",
       "      <td>1231.708277</td>\n",
       "      <td>189.573153</td>\n",
       "      <td>7.176362</td>\n",
       "      <td>149.893098</td>\n",
       "      <td>18.732853</td>\n",
       "      <td>2.067714</td>\n",
       "    </tr>\n",
       "    <tr>\n",
       "      <th>min</th>\n",
       "      <td>0.000000</td>\n",
       "      <td>2.000000e+00</td>\n",
       "      <td>1.000000</td>\n",
       "      <td>1.531084e+09</td>\n",
       "      <td>0.000000</td>\n",
       "      <td>1.300000e+01</td>\n",
       "      <td>-1151.889971</td>\n",
       "      <td>-1447.969112</td>\n",
       "      <td>-2651.840786</td>\n",
       "      <td>-1488.716798</td>\n",
       "      <td>...</td>\n",
       "      <td>-977.373846</td>\n",
       "      <td>-613.770792</td>\n",
       "      <td>-25.996269</td>\n",
       "      <td>-37.630448</td>\n",
       "      <td>-306.747724</td>\n",
       "      <td>-25.832889</td>\n",
       "      <td>-0.694428</td>\n",
       "      <td>-12.175933</td>\n",
       "      <td>-0.456140</td>\n",
       "      <td>0.000000</td>\n",
       "    </tr>\n",
       "    <tr>\n",
       "      <th>25%</th>\n",
       "      <td>207913.000000</td>\n",
       "      <td>1.067319e+06</td>\n",
       "      <td>1.000000</td>\n",
       "      <td>1.534108e+09</td>\n",
       "      <td>0.000000</td>\n",
       "      <td>1.127703e+06</td>\n",
       "      <td>-96.799971</td>\n",
       "      <td>-204.789112</td>\n",
       "      <td>-110.740786</td>\n",
       "      <td>-238.766798</td>\n",
       "      <td>...</td>\n",
       "      <td>-977.373846</td>\n",
       "      <td>-613.770792</td>\n",
       "      <td>-25.996269</td>\n",
       "      <td>-37.630448</td>\n",
       "      <td>-305.747724</td>\n",
       "      <td>-25.832889</td>\n",
       "      <td>-0.694428</td>\n",
       "      <td>-12.175933</td>\n",
       "      <td>-0.456140</td>\n",
       "      <td>0.000000</td>\n",
       "    </tr>\n",
       "    <tr>\n",
       "      <th>50%</th>\n",
       "      <td>415826.000000</td>\n",
       "      <td>2.144574e+06</td>\n",
       "      <td>2.000000</td>\n",
       "      <td>1.538341e+09</td>\n",
       "      <td>0.000000</td>\n",
       "      <td>2.251585e+06</td>\n",
       "      <td>-84.089971</td>\n",
       "      <td>-56.489112</td>\n",
       "      <td>-83.620786</td>\n",
       "      <td>-75.166798</td>\n",
       "      <td>...</td>\n",
       "      <td>-960.373846</td>\n",
       "      <td>-613.770792</td>\n",
       "      <td>-25.996269</td>\n",
       "      <td>-37.630448</td>\n",
       "      <td>-240.747724</td>\n",
       "      <td>-23.832889</td>\n",
       "      <td>-0.694428</td>\n",
       "      <td>-12.175933</td>\n",
       "      <td>-0.456140</td>\n",
       "      <td>0.000000</td>\n",
       "    </tr>\n",
       "    <tr>\n",
       "      <th>75%</th>\n",
       "      <td>623739.000000</td>\n",
       "      <td>3.244254e+06</td>\n",
       "      <td>4.000000</td>\n",
       "      <td>1.544389e+09</td>\n",
       "      <td>0.000000</td>\n",
       "      <td>3.380386e+06</td>\n",
       "      <td>12.960029</td>\n",
       "      <td>123.190888</td>\n",
       "      <td>28.699214</td>\n",
       "      <td>131.583202</td>\n",
       "      <td>...</td>\n",
       "      <td>-517.373846</td>\n",
       "      <td>-423.770792</td>\n",
       "      <td>-24.996269</td>\n",
       "      <td>-33.630448</td>\n",
       "      <td>-83.747724</td>\n",
       "      <td>-10.832889</td>\n",
       "      <td>-0.694428</td>\n",
       "      <td>-8.175933</td>\n",
       "      <td>-0.456140</td>\n",
       "      <td>1.000000</td>\n",
       "    </tr>\n",
       "    <tr>\n",
       "      <th>max</th>\n",
       "      <td>831652.000000</td>\n",
       "      <td>4.362694e+06</td>\n",
       "      <td>9.000000</td>\n",
       "      <td>1.546204e+09</td>\n",
       "      <td>1.000000</td>\n",
       "      <td>4.512484e+06</td>\n",
       "      <td>211730.720029</td>\n",
       "      <td>212606.130888</td>\n",
       "      <td>211716.779214</td>\n",
       "      <td>213357.743202</td>\n",
       "      <td>...</td>\n",
       "      <td>161254.626154</td>\n",
       "      <td>145602.229208</td>\n",
       "      <td>214933.003731</td>\n",
       "      <td>37358.369552</td>\n",
       "      <td>141994.252276</td>\n",
       "      <td>34368.167111</td>\n",
       "      <td>2285.305572</td>\n",
       "      <td>33050.824067</td>\n",
       "      <td>9489.543860</td>\n",
       "      <td>1743.000000</td>\n",
       "    </tr>\n",
       "  </tbody>\n",
       "</table>\n",
       "<p>8 rows × 259 columns</p>\n",
       "</div>"
      ],
      "text/plain": [
       "        Unnamed: 0_x            id         vas_id      buy_time  \\\n",
       "count  831653.000000  8.316530e+05  831653.000000  8.316530e+05   \n",
       "mean   415826.000000  2.158304e+06       2.686185  1.538937e+09   \n",
       "std    240077.686048  1.257907e+06       1.952034  5.019053e+06   \n",
       "min         0.000000  2.000000e+00       1.000000  1.531084e+09   \n",
       "25%    207913.000000  1.067319e+06       1.000000  1.534108e+09   \n",
       "50%    415826.000000  2.144574e+06       2.000000  1.538341e+09   \n",
       "75%    623739.000000  3.244254e+06       4.000000  1.544389e+09   \n",
       "max    831652.000000  4.362694e+06       9.000000  1.546204e+09   \n",
       "\n",
       "              target  Unnamed: 0_y              0              1  \\\n",
       "count  831653.000000  8.316530e+05  831653.000000  831653.000000   \n",
       "mean        0.072369  2.254994e+06       2.062392       5.161329   \n",
       "std         0.259098  1.302122e+06     302.308236     495.918888   \n",
       "min         0.000000  1.300000e+01   -1151.889971   -1447.969112   \n",
       "25%         0.000000  1.127703e+06     -96.799971    -204.789112   \n",
       "50%         0.000000  2.251585e+06     -84.089971     -56.489112   \n",
       "75%         0.000000  3.380386e+06      12.960029     123.190888   \n",
       "max         1.000000  4.512484e+06  211730.720029  212606.130888   \n",
       "\n",
       "                   2              3  ...            243            244  \\\n",
       "count  831653.000000  831653.000000  ...  831653.000000  831653.000000   \n",
       "mean        1.987254       5.766886  ...     -42.733928     -28.101598   \n",
       "std       309.148563     576.275542  ...    3110.526314    2146.368014   \n",
       "min     -2651.840786   -1488.716798  ...    -977.373846    -613.770792   \n",
       "25%      -110.740786    -238.766798  ...    -977.373846    -613.770792   \n",
       "50%       -83.620786     -75.166798  ...    -960.373846    -613.770792   \n",
       "75%        28.699214     131.583202  ...    -517.373846    -423.770792   \n",
       "max    211716.779214  213357.743202  ...  161254.626154  145602.229208   \n",
       "\n",
       "                 245            246            247            248  \\\n",
       "count  831653.000000  831653.000000  831653.000000  831653.000000   \n",
       "mean       -2.797341      -4.402215     -11.587021      -1.660674   \n",
       "std       837.827712     245.841644    1231.708277     189.573153   \n",
       "min       -25.996269     -37.630448    -306.747724     -25.832889   \n",
       "25%       -25.996269     -37.630448    -305.747724     -25.832889   \n",
       "50%       -25.996269     -37.630448    -240.747724     -23.832889   \n",
       "75%       -24.996269     -33.630448     -83.747724     -10.832889   \n",
       "max    214933.003731   37358.369552  141994.252276   34368.167111   \n",
       "\n",
       "                 249            250            251            252  \n",
       "count  831653.000000  831653.000000  831653.000000  831653.000000  \n",
       "mean       -0.039381       0.884418       0.013525       0.268059  \n",
       "std         7.176362     149.893098      18.732853       2.067714  \n",
       "min        -0.694428     -12.175933      -0.456140       0.000000  \n",
       "25%        -0.694428     -12.175933      -0.456140       0.000000  \n",
       "50%        -0.694428     -12.175933      -0.456140       0.000000  \n",
       "75%        -0.694428      -8.175933      -0.456140       1.000000  \n",
       "max      2285.305572   33050.824067    9489.543860    1743.000000  \n",
       "\n",
       "[8 rows x 259 columns]"
      ]
     },
     "execution_count": 31,
     "metadata": {},
     "output_type": "execute_result"
    }
   ],
   "source": [
    "full_train.describe()"
   ]
  },
  {
   "cell_type": "code",
   "execution_count": 32,
   "metadata": {},
   "outputs": [],
   "source": [
    "# Столбцы 'Unnamed: 0_x' и 'Unnamed: 0_y' удалим, т.к. они не являются признаками, а отображают только порядок, индексы\n",
    "full_train.drop(columns=['Unnamed: 0_x', 'Unnamed: 0_y'], inplace=True)\n",
    "full_test.drop(columns=['Unnamed: 0_x', 'Unnamed: 0_y'], inplace=True)"
   ]
  },
  {
   "cell_type": "code",
   "execution_count": 33,
   "metadata": {},
   "outputs": [
    {
     "data": {
      "text/plain": [
       "['id',\n",
       " 'vas_id',\n",
       " 'buy_time',\n",
       " 'target',\n",
       " '0',\n",
       " '1',\n",
       " '2',\n",
       " '3',\n",
       " '4',\n",
       " '5',\n",
       " '6',\n",
       " '7',\n",
       " '8',\n",
       " '9',\n",
       " '10',\n",
       " '11',\n",
       " '12',\n",
       " '13',\n",
       " '14',\n",
       " '15',\n",
       " '16',\n",
       " '17',\n",
       " '18',\n",
       " '19',\n",
       " '20',\n",
       " '21',\n",
       " '22',\n",
       " '23',\n",
       " '24',\n",
       " '25',\n",
       " '26',\n",
       " '27',\n",
       " '28',\n",
       " '29',\n",
       " '30',\n",
       " '31',\n",
       " '32',\n",
       " '33',\n",
       " '34',\n",
       " '35',\n",
       " '36',\n",
       " '37',\n",
       " '38',\n",
       " '39',\n",
       " '40',\n",
       " '41',\n",
       " '42',\n",
       " '43',\n",
       " '44',\n",
       " '45',\n",
       " '46',\n",
       " '47',\n",
       " '48',\n",
       " '49',\n",
       " '50',\n",
       " '51',\n",
       " '52',\n",
       " '53',\n",
       " '54',\n",
       " '55',\n",
       " '56',\n",
       " '57',\n",
       " '58',\n",
       " '59',\n",
       " '60',\n",
       " '61',\n",
       " '62',\n",
       " '63',\n",
       " '64',\n",
       " '65',\n",
       " '66',\n",
       " '67',\n",
       " '68',\n",
       " '69',\n",
       " '70',\n",
       " '71',\n",
       " '72',\n",
       " '73',\n",
       " '74',\n",
       " '75',\n",
       " '76',\n",
       " '77',\n",
       " '78',\n",
       " '79',\n",
       " '80',\n",
       " '81',\n",
       " '82',\n",
       " '83',\n",
       " '84',\n",
       " '85',\n",
       " '86',\n",
       " '87',\n",
       " '88',\n",
       " '89',\n",
       " '90',\n",
       " '91',\n",
       " '92',\n",
       " '93',\n",
       " '94',\n",
       " '95',\n",
       " '96',\n",
       " '97',\n",
       " '98',\n",
       " '99',\n",
       " '100',\n",
       " '101',\n",
       " '102',\n",
       " '103',\n",
       " '104',\n",
       " '105',\n",
       " '106',\n",
       " '107',\n",
       " '108',\n",
       " '109',\n",
       " '110',\n",
       " '111',\n",
       " '112',\n",
       " '113',\n",
       " '114',\n",
       " '115',\n",
       " '116',\n",
       " '117',\n",
       " '118',\n",
       " '119',\n",
       " '120',\n",
       " '121',\n",
       " '122',\n",
       " '123',\n",
       " '124',\n",
       " '125',\n",
       " '126',\n",
       " '127',\n",
       " '128',\n",
       " '129',\n",
       " '130',\n",
       " '131',\n",
       " '132',\n",
       " '133',\n",
       " '134',\n",
       " '135',\n",
       " '136',\n",
       " '137',\n",
       " '138',\n",
       " '139',\n",
       " '140',\n",
       " '141',\n",
       " '142',\n",
       " '143',\n",
       " '144',\n",
       " '145',\n",
       " '146',\n",
       " '147',\n",
       " '148',\n",
       " '149',\n",
       " '150',\n",
       " '151',\n",
       " '152',\n",
       " '153',\n",
       " '154',\n",
       " '155',\n",
       " '156',\n",
       " '157',\n",
       " '158',\n",
       " '159',\n",
       " '160',\n",
       " '161',\n",
       " '162',\n",
       " '163',\n",
       " '164',\n",
       " '165',\n",
       " '166',\n",
       " '167',\n",
       " '168',\n",
       " '169',\n",
       " '170',\n",
       " '171',\n",
       " '172',\n",
       " '173',\n",
       " '174',\n",
       " '175',\n",
       " '176',\n",
       " '177',\n",
       " '178',\n",
       " '179',\n",
       " '180',\n",
       " '181',\n",
       " '182',\n",
       " '183',\n",
       " '184',\n",
       " '185',\n",
       " '186',\n",
       " '187',\n",
       " '188',\n",
       " '189',\n",
       " '190',\n",
       " '191',\n",
       " '192',\n",
       " '193',\n",
       " '194',\n",
       " '195',\n",
       " '196',\n",
       " '197',\n",
       " '198',\n",
       " '199',\n",
       " '200',\n",
       " '201',\n",
       " '202',\n",
       " '203',\n",
       " '204',\n",
       " '205',\n",
       " '206',\n",
       " '207',\n",
       " '208',\n",
       " '209',\n",
       " '210',\n",
       " '211',\n",
       " '212',\n",
       " '213',\n",
       " '214',\n",
       " '215',\n",
       " '216',\n",
       " '217',\n",
       " '218',\n",
       " '219',\n",
       " '220',\n",
       " '221',\n",
       " '222',\n",
       " '223',\n",
       " '224',\n",
       " '225',\n",
       " '226',\n",
       " '227',\n",
       " '228',\n",
       " '229',\n",
       " '230',\n",
       " '231',\n",
       " '232',\n",
       " '233',\n",
       " '234',\n",
       " '235',\n",
       " '236',\n",
       " '237',\n",
       " '238',\n",
       " '239',\n",
       " '240',\n",
       " '241',\n",
       " '242',\n",
       " '243',\n",
       " '244',\n",
       " '245',\n",
       " '246',\n",
       " '247',\n",
       " '248',\n",
       " '249',\n",
       " '250',\n",
       " '251',\n",
       " '252']"
      ]
     },
     "execution_count": 33,
     "metadata": {},
     "output_type": "execute_result"
    }
   ],
   "source": [
    "name_columns_in_train = list(full_train.columns)\n",
    "name_columns_in_train"
   ]
  },
  {
   "cell_type": "code",
   "execution_count": 34,
   "metadata": {},
   "outputs": [],
   "source": [
    "full_len = full_train.shape[0]\n",
    "for column_name in name_columns_in_train:\n",
    "    if full_train[column_name].count() != full_len:\n",
    "        count_nan = full_len - full_train[column_name].count()\n",
    "        print('В столбце {column_name} пропущено {count_nan} значений')"
   ]
  },
  {
   "cell_type": "markdown",
   "metadata": {},
   "source": [
    "В тренировочном датасете нет пропущенных данных"
   ]
  },
  {
   "cell_type": "code",
   "execution_count": 35,
   "metadata": {},
   "outputs": [
    {
     "data": {
      "text/plain": [
       "0.0    771467\n",
       "1.0     60186\n",
       "Name: target, dtype: int64"
      ]
     },
     "execution_count": 35,
     "metadata": {},
     "output_type": "execute_result"
    }
   ],
   "source": [
    "full_train.target.value_counts()"
   ]
  },
  {
   "cell_type": "markdown",
   "metadata": {},
   "source": [
    "Наблюдается сильный дисбаланс классов"
   ]
  },
  {
   "cell_type": "code",
   "execution_count": 36,
   "metadata": {},
   "outputs": [],
   "source": [
    "sort_train = full_train.sort_values(by='buy_time')"
   ]
  },
  {
   "cell_type": "code",
   "execution_count": 37,
   "metadata": {
    "scrolled": true
   },
   "outputs": [
    {
     "name": "stdout",
     "output_type": "stream",
     "text": [
      "2018-07-09 00:00:00\n",
      "2018-12-31 00:00:00\n"
     ]
    }
   ],
   "source": [
    "print(dtm.datetime.fromtimestamp(min(sort_train.buy_time)))\n",
    "print(dtm.datetime.fromtimestamp(max(sort_train.buy_time)))"
   ]
  },
  {
   "cell_type": "code",
   "execution_count": 38,
   "metadata": {},
   "outputs": [
    {
     "data": {
      "text/plain": [
       "1546203600"
      ]
     },
     "execution_count": 38,
     "metadata": {},
     "output_type": "execute_result"
    }
   ],
   "source": [
    "max(sort_train.buy_time)"
   ]
  },
  {
   "cell_type": "code",
   "execution_count": 39,
   "metadata": {},
   "outputs": [
    {
     "data": {
      "text/plain": [
       "1543611600"
      ]
     },
     "execution_count": 39,
     "metadata": {},
     "output_type": "execute_result"
    }
   ],
   "source": [
    "int(dtm.datetime.strptime('01.12.2018 00:00:00', '%d.%m.%Y %H:%M:%S').timestamp())"
   ]
  },
  {
   "cell_type": "code",
   "execution_count": 40,
   "metadata": {},
   "outputs": [],
   "source": [
    "timestamp_separation = int(dtm.datetime.strptime('01.12.2018 00:00:00', '%d.%m.%Y %H:%M:%S').timestamp())\n",
    "df_train = sort_train[sort_train.buy_time < timestamp_separation]\n",
    "df_test = sort_train[sort_train.buy_time >= timestamp_separation]"
   ]
  },
  {
   "cell_type": "code",
   "execution_count": 41,
   "metadata": {},
   "outputs": [
    {
     "data": {
      "text/plain": [
       "0.0    546089\n",
       "1.0     37984\n",
       "Name: target, dtype: int64"
      ]
     },
     "execution_count": 41,
     "metadata": {},
     "output_type": "execute_result"
    }
   ],
   "source": [
    "df_train.target.value_counts()"
   ]
  },
  {
   "cell_type": "code",
   "execution_count": 42,
   "metadata": {},
   "outputs": [
    {
     "data": {
      "text/plain": [
       "0.0    225378\n",
       "1.0     22202\n",
       "Name: target, dtype: int64"
      ]
     },
     "execution_count": 42,
     "metadata": {},
     "output_type": "execute_result"
    }
   ],
   "source": [
    "df_test.target.value_counts()"
   ]
  },
  {
   "cell_type": "code",
   "execution_count": 43,
   "metadata": {},
   "outputs": [],
   "source": [
    "X_train = df_train.drop(columns=['target'])\n",
    "y_train = df_train.target\n",
    "X_test = df_test.drop(columns=['target'])\n",
    "y_test_real = df_test.target"
   ]
  },
  {
   "cell_type": "code",
   "execution_count": 44,
   "metadata": {},
   "outputs": [],
   "source": [
    "del df_train\n",
    "del df_test"
   ]
  },
  {
   "cell_type": "code",
   "execution_count": 45,
   "metadata": {},
   "outputs": [
    {
     "data": {
      "text/plain": [
       "['0',\n",
       " '1',\n",
       " '2',\n",
       " '3',\n",
       " '4',\n",
       " '5',\n",
       " '6',\n",
       " '7',\n",
       " '8',\n",
       " '9',\n",
       " '10',\n",
       " '11',\n",
       " '12',\n",
       " '13',\n",
       " '14',\n",
       " '15',\n",
       " '16',\n",
       " '17',\n",
       " '18',\n",
       " '19',\n",
       " '20',\n",
       " '21',\n",
       " '22',\n",
       " '23',\n",
       " '24',\n",
       " '25',\n",
       " '26',\n",
       " '27',\n",
       " '28',\n",
       " '29',\n",
       " '30',\n",
       " '31',\n",
       " '32',\n",
       " '33',\n",
       " '34',\n",
       " '35',\n",
       " '36',\n",
       " '37',\n",
       " '38',\n",
       " '39',\n",
       " '40',\n",
       " '41',\n",
       " '42',\n",
       " '43',\n",
       " '44',\n",
       " '45',\n",
       " '46',\n",
       " '47',\n",
       " '48',\n",
       " '49',\n",
       " '50',\n",
       " '51',\n",
       " '52',\n",
       " '53',\n",
       " '54',\n",
       " '55',\n",
       " '56',\n",
       " '57',\n",
       " '58',\n",
       " '59',\n",
       " '60',\n",
       " '61',\n",
       " '62',\n",
       " '63',\n",
       " '64',\n",
       " '65',\n",
       " '66',\n",
       " '67',\n",
       " '68',\n",
       " '69',\n",
       " '70',\n",
       " '71',\n",
       " '72',\n",
       " '73',\n",
       " '74',\n",
       " '75',\n",
       " '76',\n",
       " '77',\n",
       " '78',\n",
       " '79',\n",
       " '80',\n",
       " '81',\n",
       " '82',\n",
       " '83',\n",
       " '84',\n",
       " '85',\n",
       " '86',\n",
       " '87',\n",
       " '88',\n",
       " '89',\n",
       " '90',\n",
       " '91',\n",
       " '92',\n",
       " '93',\n",
       " '94',\n",
       " '95',\n",
       " '96',\n",
       " '97',\n",
       " '98',\n",
       " '99',\n",
       " '100',\n",
       " '101',\n",
       " '102',\n",
       " '103',\n",
       " '104',\n",
       " '105',\n",
       " '106',\n",
       " '107',\n",
       " '108',\n",
       " '109',\n",
       " '110',\n",
       " '111',\n",
       " '112',\n",
       " '113',\n",
       " '114',\n",
       " '115',\n",
       " '116',\n",
       " '117',\n",
       " '118',\n",
       " '119',\n",
       " '120',\n",
       " '121',\n",
       " '122',\n",
       " '123',\n",
       " '124',\n",
       " '125',\n",
       " '126',\n",
       " '127',\n",
       " '128',\n",
       " '129',\n",
       " '130',\n",
       " '131',\n",
       " '132',\n",
       " '133',\n",
       " '134',\n",
       " '135',\n",
       " '136',\n",
       " '137',\n",
       " '138',\n",
       " '139',\n",
       " '140',\n",
       " '141',\n",
       " '142',\n",
       " '143',\n",
       " '144',\n",
       " '145',\n",
       " '146',\n",
       " '147',\n",
       " '148',\n",
       " '149',\n",
       " '150',\n",
       " '151',\n",
       " '152',\n",
       " '153',\n",
       " '154',\n",
       " '155',\n",
       " '156',\n",
       " '157',\n",
       " '158',\n",
       " '159',\n",
       " '160',\n",
       " '161',\n",
       " '162',\n",
       " '163',\n",
       " '164',\n",
       " '165',\n",
       " '166',\n",
       " '167',\n",
       " '168',\n",
       " '169',\n",
       " '170',\n",
       " '171',\n",
       " '172',\n",
       " '173',\n",
       " '174',\n",
       " '175',\n",
       " '176',\n",
       " '177',\n",
       " '178',\n",
       " '179',\n",
       " '180',\n",
       " '181',\n",
       " '182',\n",
       " '183',\n",
       " '184',\n",
       " '185',\n",
       " '186',\n",
       " '187',\n",
       " '188',\n",
       " '189',\n",
       " '190',\n",
       " '191',\n",
       " '192',\n",
       " '193',\n",
       " '194',\n",
       " '195',\n",
       " '196',\n",
       " '197',\n",
       " '198',\n",
       " '199',\n",
       " '200',\n",
       " '201',\n",
       " '202',\n",
       " '203',\n",
       " '204',\n",
       " '205',\n",
       " '206',\n",
       " '207',\n",
       " '208',\n",
       " '209',\n",
       " '210',\n",
       " '211',\n",
       " '212',\n",
       " '213',\n",
       " '214',\n",
       " '215',\n",
       " '216',\n",
       " '217',\n",
       " '218',\n",
       " '219',\n",
       " '220',\n",
       " '221',\n",
       " '222',\n",
       " '223',\n",
       " '224',\n",
       " '225',\n",
       " '226',\n",
       " '227',\n",
       " '228',\n",
       " '229',\n",
       " '230',\n",
       " '231',\n",
       " '232',\n",
       " '233',\n",
       " '234',\n",
       " '235',\n",
       " '236',\n",
       " '237',\n",
       " '238',\n",
       " '239',\n",
       " '240',\n",
       " '241',\n",
       " '242',\n",
       " '243',\n",
       " '244',\n",
       " '245',\n",
       " '246',\n",
       " '247',\n",
       " '248',\n",
       " '249',\n",
       " '250',\n",
       " '251',\n",
       " '252']"
      ]
     },
     "execution_count": 45,
     "metadata": {},
     "output_type": "execute_result"
    }
   ],
   "source": [
    "list_name_features = list(X_train.columns)[3:]\n",
    "list_name_features"
   ]
  },
  {
   "cell_type": "code",
   "execution_count": 46,
   "metadata": {},
   "outputs": [],
   "source": [
    "# Функция создания, обучения модели, формирования предсказаний и подсчета метрик\n",
    "def model_preds(model, X_train, y_train, X_test, y_test_real):\n",
    "    model_class = RandomForestClassifier(random_state=21, class_weight={0 : 1, 1 : 10})\n",
    "    model_class.fit(X_train, y_train)\n",
    "    y_preds = model_class.predict(X_test)\n",
    "    metrics = f1_score(y_test_real, y_preds, average='macro')\n",
    "    return model_class, y_preds, metrics"
   ]
  },
  {
   "cell_type": "code",
   "execution_count": 47,
   "metadata": {},
   "outputs": [
    {
     "data": {
      "text/html": [
       "<div>\n",
       "<style scoped>\n",
       "    .dataframe tbody tr th:only-of-type {\n",
       "        vertical-align: middle;\n",
       "    }\n",
       "\n",
       "    .dataframe tbody tr th {\n",
       "        vertical-align: top;\n",
       "    }\n",
       "\n",
       "    .dataframe thead th {\n",
       "        text-align: right;\n",
       "    }\n",
       "</style>\n",
       "<table border=\"1\" class=\"dataframe\">\n",
       "  <thead>\n",
       "    <tr style=\"text-align: right;\">\n",
       "      <th></th>\n",
       "      <th>model</th>\n",
       "      <th>standart</th>\n",
       "      <th>with_std</th>\n",
       "      <th>with_PCA_and_std</th>\n",
       "      <th>for_slice</th>\n",
       "      <th>for_slice_with_std</th>\n",
       "      <th>for_slice_with_std_and_PCA</th>\n",
       "    </tr>\n",
       "  </thead>\n",
       "  <tbody>\n",
       "  </tbody>\n",
       "</table>\n",
       "</div>"
      ],
      "text/plain": [
       "Empty DataFrame\n",
       "Columns: [model, standart, with_std, with_PCA_and_std, for_slice, for_slice_with_std, for_slice_with_std_and_PCA]\n",
       "Index: []"
      ]
     },
     "execution_count": 47,
     "metadata": {},
     "output_type": "execute_result"
    }
   ],
   "source": [
    "# Датафрейм с результатами\n",
    "columns_name = ['model', 'standart', 'with_std', 'with_PCA_and_std', \n",
    "                'for_slice', 'for_slice_with_std', 'for_slice_with_std_and_PCA']\n",
    "df_metrics_for_models = pd.DataFrame(columns=columns_name)\n",
    "df_metrics_for_models"
   ]
  },
  {
   "cell_type": "markdown",
   "metadata": {},
   "source": [
    "#### Рассмотрим модель Random Forest без дополнительных параметров"
   ]
  },
  {
   "cell_type": "code",
   "execution_count": 48,
   "metadata": {},
   "outputs": [
    {
     "name": "stdout",
     "output_type": "stream",
     "text": [
      "Wall time: 8min 18s\n"
     ]
    },
    {
     "data": {
      "text/plain": [
       "0.512335365182574"
      ]
     },
     "execution_count": 48,
     "metadata": {},
     "output_type": "execute_result"
    }
   ],
   "source": [
    "%%time\n",
    "model_rf = RandomForestClassifier(random_state=21)\n",
    "trained_model_rf, y_preds_rf, metrics_rf = model_preds(model_rf, X_train, y_train, X_test, y_test_real)\n",
    "metrics_rf"
   ]
  },
  {
   "cell_type": "markdown",
   "metadata": {},
   "source": [
    "Проверка модели Random Forest с весами для классов"
   ]
  },
  {
   "cell_type": "code",
   "execution_count": 49,
   "metadata": {},
   "outputs": [
    {
     "name": "stdout",
     "output_type": "stream",
     "text": [
      "Wall time: 8min 14s\n"
     ]
    },
    {
     "data": {
      "text/plain": [
       "0.512335365182574"
      ]
     },
     "execution_count": 49,
     "metadata": {},
     "output_type": "execute_result"
    }
   ],
   "source": [
    "%%time\n",
    "model_rf_with_std = RandomForestClassifier(random_state=21, class_weight={0 : 1, 1 : 10})\n",
    "trained_model_rf_with_std, y_preds_rf_with_std, metrics_rf_with_std = model_preds(model_rf_with_std, X_train, y_train, \\\n",
    "                                                                                  X_test, y_test_real)\n",
    "metrics_rf_with_std"
   ]
  },
  {
   "cell_type": "markdown",
   "metadata": {},
   "source": [
    "Стандартизируем данные"
   ]
  },
  {
   "cell_type": "code",
   "execution_count": 50,
   "metadata": {},
   "outputs": [],
   "source": [
    "standard_scaler = StandardScaler()\n",
    "X_std_train = X_train.copy()\n",
    "X_std_train[list_name_features] = standard_scaler.fit_transform(X_std_train[list_name_features])"
   ]
  },
  {
   "cell_type": "code",
   "execution_count": 51,
   "metadata": {},
   "outputs": [],
   "source": [
    "X_std_test = X_test.copy()\n",
    "X_std_test[list_name_features] = standard_scaler.fit_transform(X_std_test[list_name_features])"
   ]
  },
  {
   "cell_type": "code",
   "execution_count": 52,
   "metadata": {},
   "outputs": [
    {
     "name": "stdout",
     "output_type": "stream",
     "text": [
      "Wall time: 8min 17s\n",
      "Parser   : 152 ms\n"
     ]
    },
    {
     "data": {
      "text/plain": [
       "0.4765285712473412"
      ]
     },
     "execution_count": 52,
     "metadata": {},
     "output_type": "execute_result"
    }
   ],
   "source": [
    "%%time\n",
    "model_rf_with_weight = RandomForestClassifier(random_state=21, class_weight={0.0 : 1, 1.0 : 10})\n",
    "model_rf_with_weight.fit(X_std_train, y_train)\n",
    "y_preds_rf_with_weight = model_rf_with_weight.predict(X_std_test)\n",
    "f1_score(y_test_real, y_preds_rf_with_weight, average='macro')"
   ]
  },
  {
   "cell_type": "markdown",
   "metadata": {},
   "source": [
    "### При помощи модели Random Forest выявим наиболее важные признаки"
   ]
  },
  {
   "cell_type": "code",
   "execution_count": 53,
   "metadata": {},
   "outputs": [
    {
     "data": {
      "text/plain": [
       "Index(['id', 'vas_id', 'buy_time', '0', '1', '2', '3', '4', '5', '6',\n",
       "       ...\n",
       "       '243', '244', '245', '246', '247', '248', '249', '250', '251', '252'],\n",
       "      dtype='object', length=256)"
      ]
     },
     "execution_count": 53,
     "metadata": {},
     "output_type": "execute_result"
    }
   ],
   "source": [
    "X_std_train.columns"
   ]
  },
  {
   "cell_type": "code",
   "execution_count": 54,
   "metadata": {},
   "outputs": [],
   "source": [
    "df_feature_importance = pd.DataFrame({'feature': X_std_train.columns, \n",
    "                                      'importance': model_rf_with_weight.feature_importances_})"
   ]
  },
  {
   "cell_type": "code",
   "execution_count": 55,
   "metadata": {},
   "outputs": [
    {
     "data": {
      "text/plain": [
       "<AxesSubplot:>"
      ]
     },
     "execution_count": 55,
     "metadata": {},
     "output_type": "execute_result"
    },
    {
     "data": {
      "image/png": "[encoded data removed]",
      "text/plain": [
       "<Figure size 432x288 with 1 Axes>"
      ]
     },
     "metadata": {
      "needs_background": "light"
     },
     "output_type": "display_data"
    }
   ],
   "source": [
    "df_feature_importance.plot()"
   ]
  },
  {
   "cell_type": "code",
   "execution_count": 56,
   "metadata": {},
   "outputs": [
    {
     "data": {
      "text/html": [
       "<div>\n",
       "<style scoped>\n",
       "    .dataframe tbody tr th:only-of-type {\n",
       "        vertical-align: middle;\n",
       "    }\n",
       "\n",
       "    .dataframe tbody tr th {\n",
       "        vertical-align: top;\n",
       "    }\n",
       "\n",
       "    .dataframe thead th {\n",
       "        text-align: right;\n",
       "    }\n",
       "</style>\n",
       "<table border=\"1\" class=\"dataframe\">\n",
       "  <thead>\n",
       "    <tr style=\"text-align: right;\">\n",
       "      <th></th>\n",
       "      <th>feature</th>\n",
       "      <th>importance</th>\n",
       "    </tr>\n",
       "  </thead>\n",
       "  <tbody>\n",
       "    <tr>\n",
       "      <th>0</th>\n",
       "      <td>id</td>\n",
       "      <td>0.053944</td>\n",
       "    </tr>\n",
       "    <tr>\n",
       "      <th>1</th>\n",
       "      <td>vas_id</td>\n",
       "      <td>0.186014</td>\n",
       "    </tr>\n",
       "    <tr>\n",
       "      <th>2</th>\n",
       "      <td>buy_time</td>\n",
       "      <td>0.159406</td>\n",
       "    </tr>\n",
       "    <tr>\n",
       "      <th>3</th>\n",
       "      <td>0</td>\n",
       "      <td>0.004864</td>\n",
       "    </tr>\n",
       "    <tr>\n",
       "      <th>4</th>\n",
       "      <td>1</td>\n",
       "      <td>0.007617</td>\n",
       "    </tr>\n",
       "  </tbody>\n",
       "</table>\n",
       "</div>"
      ],
      "text/plain": [
       "    feature  importance\n",
       "0        id    0.053944\n",
       "1    vas_id    0.186014\n",
       "2  buy_time    0.159406\n",
       "3         0    0.004864\n",
       "4         1    0.007617"
      ]
     },
     "execution_count": 56,
     "metadata": {},
     "output_type": "execute_result"
    }
   ],
   "source": [
    "df_feature_importance.head()"
   ]
  },
  {
   "cell_type": "code",
   "execution_count": 57,
   "metadata": {},
   "outputs": [
    {
     "data": {
      "text/html": [
       "<div>\n",
       "<style scoped>\n",
       "    .dataframe tbody tr th:only-of-type {\n",
       "        vertical-align: middle;\n",
       "    }\n",
       "\n",
       "    .dataframe tbody tr th {\n",
       "        vertical-align: top;\n",
       "    }\n",
       "\n",
       "    .dataframe thead th {\n",
       "        text-align: right;\n",
       "    }\n",
       "</style>\n",
       "<table border=\"1\" class=\"dataframe\">\n",
       "  <thead>\n",
       "    <tr style=\"text-align: right;\">\n",
       "      <th></th>\n",
       "      <th>feature</th>\n",
       "      <th>importance</th>\n",
       "    </tr>\n",
       "  </thead>\n",
       "  <tbody>\n",
       "    <tr>\n",
       "      <th>1</th>\n",
       "      <td>vas_id</td>\n",
       "      <td>0.186014</td>\n",
       "    </tr>\n",
       "    <tr>\n",
       "      <th>2</th>\n",
       "      <td>buy_time</td>\n",
       "      <td>0.159406</td>\n",
       "    </tr>\n",
       "    <tr>\n",
       "      <th>0</th>\n",
       "      <td>id</td>\n",
       "      <td>0.053944</td>\n",
       "    </tr>\n",
       "    <tr>\n",
       "      <th>225</th>\n",
       "      <td>222</td>\n",
       "      <td>0.033788</td>\n",
       "    </tr>\n",
       "    <tr>\n",
       "      <th>253</th>\n",
       "      <td>250</td>\n",
       "      <td>0.015081</td>\n",
       "    </tr>\n",
       "    <tr>\n",
       "      <th>...</th>\n",
       "      <td>...</td>\n",
       "      <td>...</td>\n",
       "    </tr>\n",
       "    <tr>\n",
       "      <th>111</th>\n",
       "      <td>108</td>\n",
       "      <td>0.002633</td>\n",
       "    </tr>\n",
       "    <tr>\n",
       "      <th>136</th>\n",
       "      <td>133</td>\n",
       "      <td>0.002625</td>\n",
       "    </tr>\n",
       "    <tr>\n",
       "      <th>165</th>\n",
       "      <td>162</td>\n",
       "      <td>0.002476</td>\n",
       "    </tr>\n",
       "    <tr>\n",
       "      <th>213</th>\n",
       "      <td>210</td>\n",
       "      <td>0.002450</td>\n",
       "    </tr>\n",
       "    <tr>\n",
       "      <th>153</th>\n",
       "      <td>150</td>\n",
       "      <td>0.002447</td>\n",
       "    </tr>\n",
       "  </tbody>\n",
       "</table>\n",
       "<p>100 rows × 2 columns</p>\n",
       "</div>"
      ],
      "text/plain": [
       "      feature  importance\n",
       "1      vas_id    0.186014\n",
       "2    buy_time    0.159406\n",
       "0          id    0.053944\n",
       "225       222    0.033788\n",
       "253       250    0.015081\n",
       "..        ...         ...\n",
       "111       108    0.002633\n",
       "136       133    0.002625\n",
       "165       162    0.002476\n",
       "213       210    0.002450\n",
       "153       150    0.002447\n",
       "\n",
       "[100 rows x 2 columns]"
      ]
     },
     "execution_count": 57,
     "metadata": {},
     "output_type": "execute_result"
    }
   ],
   "source": [
    "df_feature_importance.sort_values(by='importance', ascending=False).head(100)"
   ]
  },
  {
   "cell_type": "code",
   "execution_count": 58,
   "metadata": {},
   "outputs": [
    {
     "data": {
      "text/html": [
       "<div>\n",
       "<style scoped>\n",
       "    .dataframe tbody tr th:only-of-type {\n",
       "        vertical-align: middle;\n",
       "    }\n",
       "\n",
       "    .dataframe tbody tr th {\n",
       "        vertical-align: top;\n",
       "    }\n",
       "\n",
       "    .dataframe thead th {\n",
       "        text-align: right;\n",
       "    }\n",
       "</style>\n",
       "<table border=\"1\" class=\"dataframe\">\n",
       "  <thead>\n",
       "    <tr style=\"text-align: right;\">\n",
       "      <th></th>\n",
       "      <th>id</th>\n",
       "      <th>vas_id</th>\n",
       "      <th>buy_time</th>\n",
       "      <th>0</th>\n",
       "      <th>1</th>\n",
       "      <th>2</th>\n",
       "      <th>3</th>\n",
       "      <th>4</th>\n",
       "      <th>5</th>\n",
       "      <th>7</th>\n",
       "      <th>...</th>\n",
       "      <th>239</th>\n",
       "      <th>240</th>\n",
       "      <th>241</th>\n",
       "      <th>243</th>\n",
       "      <th>244</th>\n",
       "      <th>245</th>\n",
       "      <th>246</th>\n",
       "      <th>247</th>\n",
       "      <th>248</th>\n",
       "      <th>250</th>\n",
       "    </tr>\n",
       "  </thead>\n",
       "  <tbody>\n",
       "    <tr>\n",
       "      <th>718885</th>\n",
       "      <td>3754749</td>\n",
       "      <td>2.0</td>\n",
       "      <td>1531083600</td>\n",
       "      <td>-0.068405</td>\n",
       "      <td>-0.036365</td>\n",
       "      <td>-0.107034</td>\n",
       "      <td>-0.078178</td>\n",
       "      <td>-0.122208</td>\n",
       "      <td>-0.110789</td>\n",
       "      <td>-0.129770</td>\n",
       "      <td>...</td>\n",
       "      <td>-0.170615</td>\n",
       "      <td>-0.013986</td>\n",
       "      <td>0.445761</td>\n",
       "      <td>-0.285279</td>\n",
       "      <td>-0.270987</td>\n",
       "      <td>-0.025689</td>\n",
       "      <td>-0.088033</td>\n",
       "      <td>0.009644</td>\n",
       "      <td>0.675686</td>\n",
       "      <td>0.729789</td>\n",
       "    </tr>\n",
       "    <tr>\n",
       "      <th>564859</th>\n",
       "      <td>2930695</td>\n",
       "      <td>2.0</td>\n",
       "      <td>1531083600</td>\n",
       "      <td>-0.123149</td>\n",
       "      <td>-0.353422</td>\n",
       "      <td>-0.124195</td>\n",
       "      <td>-0.347838</td>\n",
       "      <td>-0.138696</td>\n",
       "      <td>-0.355340</td>\n",
       "      <td>-0.156086</td>\n",
       "      <td>...</td>\n",
       "      <td>-0.036007</td>\n",
       "      <td>-0.265939</td>\n",
       "      <td>-0.266105</td>\n",
       "      <td>-0.302361</td>\n",
       "      <td>-0.274834</td>\n",
       "      <td>-0.026844</td>\n",
       "      <td>-0.148700</td>\n",
       "      <td>-0.196932</td>\n",
       "      <td>0.028859</td>\n",
       "      <td>0.061648</td>\n",
       "    </tr>\n",
       "    <tr>\n",
       "      <th>564860</th>\n",
       "      <td>2930697</td>\n",
       "      <td>2.0</td>\n",
       "      <td>1531083600</td>\n",
       "      <td>-0.123149</td>\n",
       "      <td>-0.353422</td>\n",
       "      <td>-0.124195</td>\n",
       "      <td>-0.347838</td>\n",
       "      <td>-0.138696</td>\n",
       "      <td>-0.355340</td>\n",
       "      <td>-0.156086</td>\n",
       "      <td>...</td>\n",
       "      <td>-0.036007</td>\n",
       "      <td>-0.265939</td>\n",
       "      <td>-0.266105</td>\n",
       "      <td>-0.302361</td>\n",
       "      <td>-0.274834</td>\n",
       "      <td>-0.026844</td>\n",
       "      <td>-0.148700</td>\n",
       "      <td>-0.196932</td>\n",
       "      <td>0.028859</td>\n",
       "      <td>0.061648</td>\n",
       "    </tr>\n",
       "    <tr>\n",
       "      <th>186657</th>\n",
       "      <td>957763</td>\n",
       "      <td>4.0</td>\n",
       "      <td>1531083600</td>\n",
       "      <td>-0.297409</td>\n",
       "      <td>0.152232</td>\n",
       "      <td>-0.331907</td>\n",
       "      <td>0.046398</td>\n",
       "      <td>-0.338258</td>\n",
       "      <td>0.002186</td>\n",
       "      <td>-0.156086</td>\n",
       "      <td>...</td>\n",
       "      <td>-0.172538</td>\n",
       "      <td>-0.006313</td>\n",
       "      <td>0.621601</td>\n",
       "      <td>0.260686</td>\n",
       "      <td>-0.144044</td>\n",
       "      <td>-0.022222</td>\n",
       "      <td>-0.143185</td>\n",
       "      <td>1.083295</td>\n",
       "      <td>0.339126</td>\n",
       "      <td>0.392912</td>\n",
       "    </tr>\n",
       "    <tr>\n",
       "      <th>564871</th>\n",
       "      <td>2930746</td>\n",
       "      <td>2.0</td>\n",
       "      <td>1531083600</td>\n",
       "      <td>-0.160300</td>\n",
       "      <td>0.528285</td>\n",
       "      <td>-0.197271</td>\n",
       "      <td>0.463005</td>\n",
       "      <td>-0.208905</td>\n",
       "      <td>0.379999</td>\n",
       "      <td>-0.144814</td>\n",
       "      <td>...</td>\n",
       "      <td>-0.172538</td>\n",
       "      <td>2.176850</td>\n",
       "      <td>1.736196</td>\n",
       "      <td>0.393399</td>\n",
       "      <td>0.586361</td>\n",
       "      <td>-0.025689</td>\n",
       "      <td>-0.121124</td>\n",
       "      <td>0.333098</td>\n",
       "      <td>0.049894</td>\n",
       "      <td>0.044805</td>\n",
       "    </tr>\n",
       "    <tr>\n",
       "      <th>...</th>\n",
       "      <td>...</td>\n",
       "      <td>...</td>\n",
       "      <td>...</td>\n",
       "      <td>...</td>\n",
       "      <td>...</td>\n",
       "      <td>...</td>\n",
       "      <td>...</td>\n",
       "      <td>...</td>\n",
       "      <td>...</td>\n",
       "      <td>...</td>\n",
       "      <td>...</td>\n",
       "      <td>...</td>\n",
       "      <td>...</td>\n",
       "      <td>...</td>\n",
       "      <td>...</td>\n",
       "      <td>...</td>\n",
       "      <td>...</td>\n",
       "      <td>...</td>\n",
       "      <td>...</td>\n",
       "      <td>...</td>\n",
       "      <td>...</td>\n",
       "    </tr>\n",
       "    <tr>\n",
       "      <th>59751</th>\n",
       "      <td>306400</td>\n",
       "      <td>4.0</td>\n",
       "      <td>1543179600</td>\n",
       "      <td>0.938833</td>\n",
       "      <td>-0.007307</td>\n",
       "      <td>1.138203</td>\n",
       "      <td>0.484194</td>\n",
       "      <td>1.074169</td>\n",
       "      <td>0.399215</td>\n",
       "      <td>-0.156086</td>\n",
       "      <td>...</td>\n",
       "      <td>-0.172538</td>\n",
       "      <td>-0.289599</td>\n",
       "      <td>-0.268941</td>\n",
       "      <td>-0.302361</td>\n",
       "      <td>-0.274834</td>\n",
       "      <td>-0.026844</td>\n",
       "      <td>-0.148700</td>\n",
       "      <td>-0.254012</td>\n",
       "      <td>-0.123644</td>\n",
       "      <td>-0.101176</td>\n",
       "    </tr>\n",
       "    <tr>\n",
       "      <th>58901</th>\n",
       "      <td>301892</td>\n",
       "      <td>6.0</td>\n",
       "      <td>1543179600</td>\n",
       "      <td>1.089254</td>\n",
       "      <td>0.157907</td>\n",
       "      <td>1.029740</td>\n",
       "      <td>0.566013</td>\n",
       "      <td>0.969962</td>\n",
       "      <td>0.473415</td>\n",
       "      <td>-0.156086</td>\n",
       "      <td>...</td>\n",
       "      <td>-0.045622</td>\n",
       "      <td>-0.289599</td>\n",
       "      <td>-0.268941</td>\n",
       "      <td>-0.302361</td>\n",
       "      <td>-0.274834</td>\n",
       "      <td>-0.026844</td>\n",
       "      <td>-0.148700</td>\n",
       "      <td>-0.203274</td>\n",
       "      <td>-0.076316</td>\n",
       "      <td>-0.101176</td>\n",
       "    </tr>\n",
       "    <tr>\n",
       "      <th>91785</th>\n",
       "      <td>471297</td>\n",
       "      <td>2.0</td>\n",
       "      <td>1543179600</td>\n",
       "      <td>-0.297409</td>\n",
       "      <td>-0.236900</td>\n",
       "      <td>-0.331907</td>\n",
       "      <td>-0.287854</td>\n",
       "      <td>-0.338258</td>\n",
       "      <td>-0.300941</td>\n",
       "      <td>-0.156086</td>\n",
       "      <td>...</td>\n",
       "      <td>-0.147539</td>\n",
       "      <td>-0.286402</td>\n",
       "      <td>-0.260433</td>\n",
       "      <td>-0.292506</td>\n",
       "      <td>-0.262332</td>\n",
       "      <td>-0.026844</td>\n",
       "      <td>-0.143185</td>\n",
       "      <td>0.046791</td>\n",
       "      <td>0.318091</td>\n",
       "      <td>-0.056259</td>\n",
       "    </tr>\n",
       "    <tr>\n",
       "      <th>471557</th>\n",
       "      <td>2439349</td>\n",
       "      <td>2.0</td>\n",
       "      <td>1543179600</td>\n",
       "      <td>-0.297409</td>\n",
       "      <td>-0.205767</td>\n",
       "      <td>-0.331907</td>\n",
       "      <td>-0.247733</td>\n",
       "      <td>-0.338258</td>\n",
       "      <td>-0.264556</td>\n",
       "      <td>-0.156086</td>\n",
       "      <td>...</td>\n",
       "      <td>-0.172538</td>\n",
       "      <td>1.352568</td>\n",
       "      <td>-0.087430</td>\n",
       "      <td>-0.228448</td>\n",
       "      <td>-0.174818</td>\n",
       "      <td>-0.026844</td>\n",
       "      <td>-0.148700</td>\n",
       "      <td>-0.042000</td>\n",
       "      <td>-0.113127</td>\n",
       "      <td>-0.101176</td>\n",
       "    </tr>\n",
       "    <tr>\n",
       "      <th>23454</th>\n",
       "      <td>121314</td>\n",
       "      <td>4.0</td>\n",
       "      <td>1543179600</td>\n",
       "      <td>-0.297409</td>\n",
       "      <td>-0.218532</td>\n",
       "      <td>-0.331907</td>\n",
       "      <td>-0.191188</td>\n",
       "      <td>-0.338258</td>\n",
       "      <td>-0.213277</td>\n",
       "      <td>-0.156086</td>\n",
       "      <td>...</td>\n",
       "      <td>-0.172538</td>\n",
       "      <td>-0.289599</td>\n",
       "      <td>-0.268941</td>\n",
       "      <td>-0.302361</td>\n",
       "      <td>-0.274834</td>\n",
       "      <td>-0.026844</td>\n",
       "      <td>-0.148700</td>\n",
       "      <td>-0.254012</td>\n",
       "      <td>-0.123644</td>\n",
       "      <td>-0.101176</td>\n",
       "    </tr>\n",
       "  </tbody>\n",
       "</table>\n",
       "<p>584073 rows × 107 columns</p>\n",
       "</div>"
      ],
      "text/plain": [
       "             id  vas_id    buy_time         0         1         2         3  \\\n",
       "718885  3754749     2.0  1531083600 -0.068405 -0.036365 -0.107034 -0.078178   \n",
       "564859  2930695     2.0  1531083600 -0.123149 -0.353422 -0.124195 -0.347838   \n",
       "564860  2930697     2.0  1531083600 -0.123149 -0.353422 -0.124195 -0.347838   \n",
       "186657   957763     4.0  1531083600 -0.297409  0.152232 -0.331907  0.046398   \n",
       "564871  2930746     2.0  1531083600 -0.160300  0.528285 -0.197271  0.463005   \n",
       "...         ...     ...         ...       ...       ...       ...       ...   \n",
       "59751    306400     4.0  1543179600  0.938833 -0.007307  1.138203  0.484194   \n",
       "58901    301892     6.0  1543179600  1.089254  0.157907  1.029740  0.566013   \n",
       "91785    471297     2.0  1543179600 -0.297409 -0.236900 -0.331907 -0.287854   \n",
       "471557  2439349     2.0  1543179600 -0.297409 -0.205767 -0.331907 -0.247733   \n",
       "23454    121314     4.0  1543179600 -0.297409 -0.218532 -0.331907 -0.191188   \n",
       "\n",
       "               4         5         7  ...       239       240       241  \\\n",
       "718885 -0.122208 -0.110789 -0.129770  ... -0.170615 -0.013986  0.445761   \n",
       "564859 -0.138696 -0.355340 -0.156086  ... -0.036007 -0.265939 -0.266105   \n",
       "564860 -0.138696 -0.355340 -0.156086  ... -0.036007 -0.265939 -0.266105   \n",
       "186657 -0.338258  0.002186 -0.156086  ... -0.172538 -0.006313  0.621601   \n",
       "564871 -0.208905  0.379999 -0.144814  ... -0.172538  2.176850  1.736196   \n",
       "...          ...       ...       ...  ...       ...       ...       ...   \n",
       "59751   1.074169  0.399215 -0.156086  ... -0.172538 -0.289599 -0.268941   \n",
       "58901   0.969962  0.473415 -0.156086  ... -0.045622 -0.289599 -0.268941   \n",
       "91785  -0.338258 -0.300941 -0.156086  ... -0.147539 -0.286402 -0.260433   \n",
       "471557 -0.338258 -0.264556 -0.156086  ... -0.172538  1.352568 -0.087430   \n",
       "23454  -0.338258 -0.213277 -0.156086  ... -0.172538 -0.289599 -0.268941   \n",
       "\n",
       "             243       244       245       246       247       248       250  \n",
       "718885 -0.285279 -0.270987 -0.025689 -0.088033  0.009644  0.675686  0.729789  \n",
       "564859 -0.302361 -0.274834 -0.026844 -0.148700 -0.196932  0.028859  0.061648  \n",
       "564860 -0.302361 -0.274834 -0.026844 -0.148700 -0.196932  0.028859  0.061648  \n",
       "186657  0.260686 -0.144044 -0.022222 -0.143185  1.083295  0.339126  0.392912  \n",
       "564871  0.393399  0.586361 -0.025689 -0.121124  0.333098  0.049894  0.044805  \n",
       "...          ...       ...       ...       ...       ...       ...       ...  \n",
       "59751  -0.302361 -0.274834 -0.026844 -0.148700 -0.254012 -0.123644 -0.101176  \n",
       "58901  -0.302361 -0.274834 -0.026844 -0.148700 -0.203274 -0.076316 -0.101176  \n",
       "91785  -0.292506 -0.262332 -0.026844 -0.143185  0.046791  0.318091 -0.056259  \n",
       "471557 -0.228448 -0.174818 -0.026844 -0.148700 -0.042000 -0.113127 -0.101176  \n",
       "23454  -0.302361 -0.274834 -0.026844 -0.148700 -0.254012 -0.123644 -0.101176  \n",
       "\n",
       "[584073 rows x 107 columns]"
      ]
     },
     "execution_count": 58,
     "metadata": {},
     "output_type": "execute_result"
    }
   ],
   "source": [
    "X_std_train[list(df_feature_importance[df_feature_importance.importance > 0.002].feature.values)]"
   ]
  },
  {
   "cell_type": "markdown",
   "metadata": {},
   "source": [
    "Построим модель random forest для части признаков"
   ]
  },
  {
   "cell_type": "code",
   "execution_count": 59,
   "metadata": {},
   "outputs": [
    {
     "name": "stdout",
     "output_type": "stream",
     "text": [
      "Wall time: 8min 3s\n"
     ]
    },
    {
     "data": {
      "text/plain": [
       "0.4765285712473412"
      ]
     },
     "execution_count": 59,
     "metadata": {},
     "output_type": "execute_result"
    }
   ],
   "source": [
    "%%time\n",
    "model_rf_for_slice = RandomForestClassifier(random_state=21)\n",
    "trained_model_rf_for_slice, y_preds_rf_for_slice, metrics_rf_for_slice = model_preds(model_rf_for_slice, \n",
    "                     X_std_train[list(df_feature_importance[df_feature_importance.importance > 0.002].feature.values)], \n",
    "                     y_train, X_test[list(df_feature_importance[df_feature_importance.importance > 0.002].feature.values)],\n",
    "                     y_test_real)\n",
    "metrics_rf_for_slice"
   ]
  },
  {
   "cell_type": "markdown",
   "metadata": {},
   "source": [
    "Модель random forest для части признаков с переопределением весов целевой переменной"
   ]
  },
  {
   "cell_type": "code",
   "execution_count": 60,
   "metadata": {},
   "outputs": [
    {
     "name": "stdout",
     "output_type": "stream",
     "text": [
      "Wall time: 8min 6s\n",
      "Parser   : 148 ms\n"
     ]
    },
    {
     "data": {
      "text/plain": [
       "0.4765285712473412"
      ]
     },
     "execution_count": 60,
     "metadata": {},
     "output_type": "execute_result"
    }
   ],
   "source": [
    "%%time\n",
    "model_rf_for_slice_with_std = RandomForestClassifier(random_state=21, class_weight={0 : 1, 1 : 10})\n",
    "trained_model_rf_for_slice_with_std, y_preds_rf_for_slice_with_std, metrics_rf_for_slice_with_std = model_preds(model_rf_for_slice_with_std, \n",
    "                     X_std_train[list(df_feature_importance[df_feature_importance.importance > 0.002].feature.values)], \n",
    "                     y_train, X_test[list(df_feature_importance[df_feature_importance.importance > 0.002].feature.values)], \n",
    "                     y_test_real)\n",
    "metrics_rf_for_slice_with_std"
   ]
  },
  {
   "cell_type": "code",
   "execution_count": 61,
   "metadata": {},
   "outputs": [],
   "source": [
    "# Функция обучения pipeline, формирования предсказаний и подсчета метрик\n",
    "def pipeline_preds(pipeline, X_train, y_train, X_test, y_test_real):\n",
    "    pipeline.fit(X_train, y_train)\n",
    "    y_preds = pipeline.predict(X_test)\n",
    "    metrics = f1_score(y_test_real, y_preds, average='macro')\n",
    "    return pipeline, y_preds, metrics"
   ]
  },
  {
   "cell_type": "markdown",
   "metadata": {},
   "source": [
    "Создадим pipeline для модели random forest "
   ]
  },
  {
   "cell_type": "code",
   "execution_count": 62,
   "metadata": {},
   "outputs": [],
   "source": [
    "# %%time\n",
    "# pipeline_rf_with_std = Pipeline([('standard_scaler', StandardScaler()), \n",
    "#                         ('random_forest', RandomForestClassifier(random_state=21))])\n",
    "# trained_model_rf_with_std, y_preds_rf_with_std, metrics_rf_with_std = pipeline_preds(pipeline_rf_with_std, \n",
    "#                                          X_train, y_train, X_test, y_test_real)\n",
    "# metrics_rf_with_std"
   ]
  },
  {
   "cell_type": "markdown",
   "metadata": {},
   "source": [
    "Добавим PCA в pipeline для random forest"
   ]
  },
  {
   "cell_type": "code",
   "execution_count": 63,
   "metadata": {},
   "outputs": [],
   "source": [
    "# %%time\n",
    "# pipeline_rf_with_pca = Pipeline([('pca', PCA()),\n",
    "#                         ('standard_scaler', StandardScaler()), \n",
    "#                         ('random_forest', RandomForestClassifier(random_state=21))])\n",
    "# trained_model_rf_with_std_and_PCA, y_preds_rf_with_std_and_PCA, metrics_rf_with_std_and_PCA = pipeline_preds(pipeline_rf_with_pca, X_train, y_train, X_test, y_test_real)\n",
    "# metrics_rf_with_std_and_PCA"
   ]
  },
  {
   "cell_type": "markdown",
   "metadata": {},
   "source": [
    "Добавим PCA в pipeline для random forest для части признаков"
   ]
  },
  {
   "cell_type": "code",
   "execution_count": 64,
   "metadata": {},
   "outputs": [],
   "source": [
    "X_train_slice = X_train[list(df_feature_importance[df_feature_importance.importance > 0.002].feature.values)]\n",
    "X_test_slice = X_test[list(df_feature_importance[df_feature_importance.importance > 0.002].feature.values)]"
   ]
  },
  {
   "cell_type": "code",
   "execution_count": 65,
   "metadata": {},
   "outputs": [],
   "source": [
    "# %%time\n",
    "# pipeline_rf_slice_with_pca = Pipeline([('pca', PCA()),\n",
    "#                         ('standard_scaler', StandardScaler()), \n",
    "#                         ('random_forest', RandomForestClassifier(random_state=21))])\n",
    "# trained_model_rf_slice_with_std_and_PCA, y_preds_rf_slice_with_std_and_PCA, metrics_rf_slice_with_std_and_PCA = pipeline_preds(pipeline_rf_slice_with_pca, \n",
    "#                         X_train_slice, y_train, X_test_slice, y_test_real)\n",
    "# metrics_rf_slice_with_std_and_PCA"
   ]
  },
  {
   "cell_type": "markdown",
   "metadata": {},
   "source": [
    "Добавим результаты вычисления метрик в общий датафрейм"
   ]
  },
  {
   "cell_type": "code",
   "execution_count": 66,
   "metadata": {},
   "outputs": [
    {
     "data": {
      "text/html": [
       "<div>\n",
       "<style scoped>\n",
       "    .dataframe tbody tr th:only-of-type {\n",
       "        vertical-align: middle;\n",
       "    }\n",
       "\n",
       "    .dataframe tbody tr th {\n",
       "        vertical-align: top;\n",
       "    }\n",
       "\n",
       "    .dataframe thead th {\n",
       "        text-align: right;\n",
       "    }\n",
       "</style>\n",
       "<table border=\"1\" class=\"dataframe\">\n",
       "  <thead>\n",
       "    <tr style=\"text-align: right;\">\n",
       "      <th></th>\n",
       "      <th>model</th>\n",
       "      <th>standart</th>\n",
       "      <th>with_std</th>\n",
       "      <th>with_PCA_and_std</th>\n",
       "      <th>for_slice</th>\n",
       "      <th>for_slice_with_std</th>\n",
       "      <th>for_slice_with_std_and_PCA</th>\n",
       "    </tr>\n",
       "  </thead>\n",
       "  <tbody>\n",
       "    <tr>\n",
       "      <th>0</th>\n",
       "      <td>Random Forest</td>\n",
       "      <td>0.512335</td>\n",
       "      <td>0.512335</td>\n",
       "      <td>NaN</td>\n",
       "      <td>0.476529</td>\n",
       "      <td>0.476529</td>\n",
       "      <td>NaN</td>\n",
       "    </tr>\n",
       "  </tbody>\n",
       "</table>\n",
       "</div>"
      ],
      "text/plain": [
       "           model  standart  with_std  with_PCA_and_std  for_slice  \\\n",
       "0  Random Forest  0.512335  0.512335               NaN   0.476529   \n",
       "\n",
       "   for_slice_with_std  for_slice_with_std_and_PCA  \n",
       "0            0.476529                         NaN  "
      ]
     },
     "execution_count": 66,
     "metadata": {},
     "output_type": "execute_result"
    }
   ],
   "source": [
    "metrics_rf_with_std_and_PCA = np.nan\n",
    "metrics_rf_slice_with_std_and_PCA = np.nan\n",
    "result_for_rf = ['Random Forest', metrics_rf, metrics_rf_with_std, metrics_rf_with_std_and_PCA, \n",
    "                metrics_rf_for_slice, metrics_rf_for_slice_with_std, metrics_rf_slice_with_std_and_PCA]\n",
    "df_result_for_rf = pd.DataFrame([result_for_rf], columns=columns_name)\n",
    "df_metrics_for_models = pd.concat([df_metrics_for_models, df_result_for_rf], axis=0, ignore_index=True)\n",
    "df_metrics_for_models"
   ]
  },
  {
   "cell_type": "markdown",
   "metadata": {},
   "source": [
    "#### Рассмотрим алгоритм logistic regression"
   ]
  },
  {
   "cell_type": "code",
   "execution_count": 67,
   "metadata": {},
   "outputs": [
    {
     "name": "stdout",
     "output_type": "stream",
     "text": [
      "Wall time: 1min 48s\n"
     ]
    },
    {
     "data": {
      "text/plain": [
       "0.4765285712473412"
      ]
     },
     "execution_count": 67,
     "metadata": {},
     "output_type": "execute_result"
    }
   ],
   "source": [
    "%%time\n",
    "pipeline_lr = Pipeline([('logistic_regression', LogisticRegression(random_state=21))])\n",
    "trained_model_lr, y_preds_lr, metrics_lr = pipeline_preds(pipeline_lr, X_train, y_train, X_test, y_test_real)\n",
    "metrics_lr"
   ]
  },
  {
   "cell_type": "markdown",
   "metadata": {},
   "source": [
    "Добавим в logistic regression стандартизацию"
   ]
  },
  {
   "cell_type": "code",
   "execution_count": 68,
   "metadata": {},
   "outputs": [
    {
     "name": "stdout",
     "output_type": "stream",
     "text": [
      "Wall time: 54 s\n",
      "Compiler : 140 ms\n"
     ]
    },
    {
     "data": {
      "text/plain": [
       "0.5985759673249568"
      ]
     },
     "execution_count": 68,
     "metadata": {},
     "output_type": "execute_result"
    }
   ],
   "source": [
    "%%time\n",
    "pipeline_lr_with_std = Pipeline([('standard_scaler', StandardScaler()), \n",
    "                        ('logistic_regression', LogisticRegression(random_state=21))])\n",
    "trained_model_lr_with_std, y_preds_lr_with_std, metrics_lr_with_std = pipeline_preds(pipeline_lr_with_std, \n",
    "                        X_train, y_train, X_test, y_test_real)\n",
    "metrics_lr_with_std"
   ]
  },
  {
   "cell_type": "markdown",
   "metadata": {},
   "source": [
    "Добавим в logistic regression стандартизацию и PCA"
   ]
  },
  {
   "cell_type": "code",
   "execution_count": 69,
   "metadata": {},
   "outputs": [
    {
     "name": "stdout",
     "output_type": "stream",
     "text": [
      "Wall time: 2min 24s\n",
      "Parser   : 193 ms\n"
     ]
    },
    {
     "data": {
      "text/plain": [
       "0.5986531377823684"
      ]
     },
     "execution_count": 69,
     "metadata": {},
     "output_type": "execute_result"
    }
   ],
   "source": [
    "%%time\n",
    "pipeline_lr_with_std_pca = Pipeline([('pca', PCA()),\n",
    "                                   ('standard_scaler', StandardScaler()), \n",
    "                                    ('logistic_regression', LogisticRegression(random_state=21))])\n",
    "trained_model_lr_with_std_pca, y_preds_lr_with_std_pca, metrics_lr_with_std_pca = pipeline_preds(pipeline_lr_with_std_pca, \n",
    "                                    X_train, y_train, X_test, y_test_real)\n",
    "metrics_lr_with_std_pca"
   ]
  },
  {
   "cell_type": "markdown",
   "metadata": {},
   "source": [
    "Рассмотрим logistic regression для ограниченного набора признаков"
   ]
  },
  {
   "cell_type": "code",
   "execution_count": 70,
   "metadata": {},
   "outputs": [
    {
     "name": "stdout",
     "output_type": "stream",
     "text": [
      "Wall time: 1min 28s\n",
      "Parser   : 770 ms\n"
     ]
    },
    {
     "data": {
      "text/plain": [
       "0.4765285712473412"
      ]
     },
     "execution_count": 70,
     "metadata": {},
     "output_type": "execute_result"
    }
   ],
   "source": [
    "%%time\n",
    "pipeline_lr_slice = Pipeline([('logistic_regression', LogisticRegression(random_state=21))])\n",
    "trained_model_lr_slice, y_preds_lr_slice, metrics_lr_slice = pipeline_preds(pipeline_lr_slice, \n",
    "                                                X_train_slice, y_train, X_test_slice, y_test_real)\n",
    "metrics_lr_slice"
   ]
  },
  {
   "cell_type": "markdown",
   "metadata": {},
   "source": [
    "Добавим в logistic regression для ограниченного набора признаков стандартизацию"
   ]
  },
  {
   "cell_type": "code",
   "execution_count": 71,
   "metadata": {},
   "outputs": [
    {
     "name": "stdout",
     "output_type": "stream",
     "text": [
      "Wall time: 16.6 s\n",
      "Parser   : 287 ms\n"
     ]
    },
    {
     "data": {
      "text/plain": [
       "0.6002340212394084"
      ]
     },
     "execution_count": 71,
     "metadata": {},
     "output_type": "execute_result"
    }
   ],
   "source": [
    "%%time\n",
    "pipeline_lr_slice_with_std = Pipeline([('standard_scaler', StandardScaler()), \n",
    "                        ('logistic_regression', LogisticRegression(random_state=21))])\n",
    "trained_model_lr_slice_with_std, y_preds_lr_slice_with_std, metrics_lr_slice_with_std = pipeline_preds(pipeline_lr_slice_with_std, \n",
    "                        X_train_slice, y_train, X_test_slice, y_test_real)\n",
    "metrics_lr_slice_with_std"
   ]
  },
  {
   "cell_type": "markdown",
   "metadata": {},
   "source": [
    "Добавим в logistic regression для ограниченного набора признаков стандартизацию и PCA"
   ]
  },
  {
   "cell_type": "code",
   "execution_count": 72,
   "metadata": {},
   "outputs": [
    {
     "name": "stdout",
     "output_type": "stream",
     "text": [
      "Wall time: 27.9 s\n",
      "Parser   : 898 ms\n"
     ]
    },
    {
     "data": {
      "text/plain": [
       "0.5569785752456479"
      ]
     },
     "execution_count": 72,
     "metadata": {},
     "output_type": "execute_result"
    }
   ],
   "source": [
    "%%time\n",
    "pipeline_lr_slice_with_std_pca = Pipeline([('pca', PCA()),\n",
    "                                   ('standard_scaler', StandardScaler()), \n",
    "                                    ('logistic_regression', LogisticRegression(random_state=21))])\n",
    "trained_model_lr_slice_with_std_pca, y_preds_lr_slice_with_std_pca, metrics_lr_slice_with_std_pca = pipeline_preds(pipeline_lr_slice_with_std_pca, \n",
    "                                    X_train_slice, y_train, X_test_slice, y_test_real)\n",
    "metrics_lr_slice_with_std_pca"
   ]
  },
  {
   "cell_type": "code",
   "execution_count": 73,
   "metadata": {},
   "outputs": [
    {
     "data": {
      "text/html": [
       "<div>\n",
       "<style scoped>\n",
       "    .dataframe tbody tr th:only-of-type {\n",
       "        vertical-align: middle;\n",
       "    }\n",
       "\n",
       "    .dataframe tbody tr th {\n",
       "        vertical-align: top;\n",
       "    }\n",
       "\n",
       "    .dataframe thead th {\n",
       "        text-align: right;\n",
       "    }\n",
       "</style>\n",
       "<table border=\"1\" class=\"dataframe\">\n",
       "  <thead>\n",
       "    <tr style=\"text-align: right;\">\n",
       "      <th></th>\n",
       "      <th>model</th>\n",
       "      <th>standart</th>\n",
       "      <th>with_std</th>\n",
       "      <th>with_PCA_and_std</th>\n",
       "      <th>for_slice</th>\n",
       "      <th>for_slice_with_std</th>\n",
       "      <th>for_slice_with_std_and_PCA</th>\n",
       "    </tr>\n",
       "  </thead>\n",
       "  <tbody>\n",
       "    <tr>\n",
       "      <th>0</th>\n",
       "      <td>Random Forest</td>\n",
       "      <td>0.512335</td>\n",
       "      <td>0.512335</td>\n",
       "      <td>NaN</td>\n",
       "      <td>0.476529</td>\n",
       "      <td>0.476529</td>\n",
       "      <td>NaN</td>\n",
       "    </tr>\n",
       "    <tr>\n",
       "      <th>1</th>\n",
       "      <td>Logistic Regression</td>\n",
       "      <td>0.476529</td>\n",
       "      <td>0.598576</td>\n",
       "      <td>0.598653</td>\n",
       "      <td>0.476529</td>\n",
       "      <td>0.600234</td>\n",
       "      <td>0.556979</td>\n",
       "    </tr>\n",
       "  </tbody>\n",
       "</table>\n",
       "</div>"
      ],
      "text/plain": [
       "                 model  standart  with_std  with_PCA_and_std  for_slice  \\\n",
       "0        Random Forest  0.512335  0.512335               NaN   0.476529   \n",
       "1  Logistic Regression  0.476529  0.598576          0.598653   0.476529   \n",
       "\n",
       "   for_slice_with_std  for_slice_with_std_and_PCA  \n",
       "0            0.476529                         NaN  \n",
       "1            0.600234                    0.556979  "
      ]
     },
     "execution_count": 73,
     "metadata": {},
     "output_type": "execute_result"
    }
   ],
   "source": [
    "result_for_logreg = ['Logistic Regression', metrics_lr, metrics_lr_with_std, metrics_lr_with_std_pca, \n",
    "                metrics_lr_slice, metrics_lr_slice_with_std, metrics_lr_slice_with_std_pca]\n",
    "df_result_for_logreg = pd.DataFrame([result_for_logreg], columns=columns_name)\n",
    "df_metrics_for_models = pd.concat([df_metrics_for_models, df_result_for_logreg], axis=0, ignore_index=True)\n",
    "df_metrics_for_models"
   ]
  },
  {
   "cell_type": "markdown",
   "metadata": {},
   "source": [
    "#### Рассмотрим модель Gradient Boosting"
   ]
  },
  {
   "cell_type": "code",
   "execution_count": 74,
   "metadata": {},
   "outputs": [
    {
     "name": "stdout",
     "output_type": "stream",
     "text": [
      "Wall time: 22min 2s\n",
      "Compiler : 127 ms\n",
      "Parser   : 252 ms\n"
     ]
    },
    {
     "data": {
      "text/plain": [
       "0.7394308822106537"
      ]
     },
     "execution_count": 74,
     "metadata": {},
     "output_type": "execute_result"
    }
   ],
   "source": [
    "%%time\n",
    "pipeline_gb = Pipeline([('gradient_boosting', GradientBoostingClassifier(random_state=21))])\n",
    "trained_model_gb, y_preds_gb, metrics_gb = pipeline_preds(pipeline_gb, X_train, y_train, X_test, y_test_real)\n",
    "metrics_gb"
   ]
  },
  {
   "cell_type": "markdown",
   "metadata": {},
   "source": [
    "Добавим стандартизацию данных в модель Gradient Boosting"
   ]
  },
  {
   "cell_type": "code",
   "execution_count": 75,
   "metadata": {},
   "outputs": [
    {
     "name": "stdout",
     "output_type": "stream",
     "text": [
      "Wall time: 18min 16s\n",
      "Parser   : 240 ms\n"
     ]
    },
    {
     "data": {
      "text/plain": [
       "0.7394308822106537"
      ]
     },
     "execution_count": 75,
     "metadata": {},
     "output_type": "execute_result"
    }
   ],
   "source": [
    "%%time\n",
    "pipeline_gb_with_std = Pipeline([('standard_scaler', StandardScaler()), \n",
    "                                ('gradient_boosting', GradientBoostingClassifier(random_state=21))])\n",
    "trained_model_gb_with_std, y_preds_gb_with_std, metrics_gb_with_std = pipeline_preds(pipeline_gb_with_std, \n",
    "                                    X_train, y_train, X_test, y_test_real)\n",
    "metrics_gb_with_std"
   ]
  },
  {
   "cell_type": "markdown",
   "metadata": {},
   "source": [
    "Добавим стандартизацию данных и PCA в модель Gradient Boosting"
   ]
  },
  {
   "cell_type": "code",
   "execution_count": 76,
   "metadata": {},
   "outputs": [],
   "source": [
    "# %%time\n",
    "# pipeline_gb_with_std_pca = Pipeline([('pca', PCA()),\n",
    "#                                 ('standard_scaler', StandardScaler()), \n",
    "#                                 ('gradient_boosting', GradientBoostingClassifier(random_state=21))])\n",
    "# trained_model_gb_with_std_pca, y_preds_gb_with_std_pca, metrics_gb_with_std_pca = pipeline_preds(pipeline_gb_with_std_pca, \n",
    "#                                     X_train, y_train, X_test, y_test_real)\n",
    "# metrics_gb_with_std_pca"
   ]
  },
  {
   "cell_type": "markdown",
   "metadata": {},
   "source": [
    "Рассмотрим модель Gradient Boosting для отобранной части признаков"
   ]
  },
  {
   "cell_type": "code",
   "execution_count": 77,
   "metadata": {},
   "outputs": [
    {
     "name": "stdout",
     "output_type": "stream",
     "text": [
      "Wall time: 15min 53s\n",
      "Parser   : 313 ms\n"
     ]
    },
    {
     "data": {
      "text/plain": [
       "0.7359354691652424"
      ]
     },
     "execution_count": 77,
     "metadata": {},
     "output_type": "execute_result"
    }
   ],
   "source": [
    "%%time\n",
    "pipeline_gb_slice = Pipeline([('gradient_boosting', GradientBoostingClassifier(random_state=21))])\n",
    "trained_model_gb_slice, y_preds_gb_slice, metrics_gb_slice = pipeline_preds(pipeline_gb_slice, X_train_slice, \n",
    "                                                                            y_train, X_test_slice, y_test_real)\n",
    "metrics_gb_slice"
   ]
  },
  {
   "cell_type": "markdown",
   "metadata": {},
   "source": [
    "Рассмотрим модель Gradient Boosting со стандартизацией данных для отобранной части признаков"
   ]
  },
  {
   "cell_type": "code",
   "execution_count": 78,
   "metadata": {},
   "outputs": [
    {
     "name": "stdout",
     "output_type": "stream",
     "text": [
      "Wall time: 15min 42s\n",
      "Parser   : 207 ms\n"
     ]
    },
    {
     "data": {
      "text/plain": [
       "0.7359295416947829"
      ]
     },
     "execution_count": 78,
     "metadata": {},
     "output_type": "execute_result"
    }
   ],
   "source": [
    "%%time\n",
    "pipeline_gb_slice_with_std = Pipeline([('standard_scaler', StandardScaler()), \n",
    "                                ('gradient_boosting', GradientBoostingClassifier(random_state=21))])\n",
    "trained_model_gb_slice_with_std, y_preds_gb_slice_with_std, metrics_gb_slice_with_std = pipeline_preds(pipeline_gb_slice_with_std, \n",
    "                                    X_train_slice, y_train, X_test_slice, y_test_real)\n",
    "metrics_gb_slice_with_std"
   ]
  },
  {
   "cell_type": "markdown",
   "metadata": {},
   "source": [
    "Рассмотрим модель Gradient Boosting со стандартизацией данных и PCA для отобранной части признаков"
   ]
  },
  {
   "cell_type": "code",
   "execution_count": 79,
   "metadata": {},
   "outputs": [],
   "source": [
    "# %%time\n",
    "# pipeline_gb_with_slice_std_pca = Pipeline([('pca', PCA()),\n",
    "#                                 ('standard_scaler', StandardScaler()), \n",
    "#                                 ('gradient_boosting', GradientBoostingClassifier(random_state=21))])\n",
    "# trained_model_gb_slice_with_std_pca, y_preds_gb_slice_with_std_pca, metrics_gb_slice_with_std_pca = pipeline_preds(pipeline_gb_slice_with_std_pca, \n",
    "#                                     X_train_slice, y_train, X_test_slice, y_test_real)\n",
    "# metrics_gb_slice_with_std_pca"
   ]
  },
  {
   "cell_type": "code",
   "execution_count": 80,
   "metadata": {},
   "outputs": [
    {
     "data": {
      "text/html": [
       "<div>\n",
       "<style scoped>\n",
       "    .dataframe tbody tr th:only-of-type {\n",
       "        vertical-align: middle;\n",
       "    }\n",
       "\n",
       "    .dataframe tbody tr th {\n",
       "        vertical-align: top;\n",
       "    }\n",
       "\n",
       "    .dataframe thead th {\n",
       "        text-align: right;\n",
       "    }\n",
       "</style>\n",
       "<table border=\"1\" class=\"dataframe\">\n",
       "  <thead>\n",
       "    <tr style=\"text-align: right;\">\n",
       "      <th></th>\n",
       "      <th>model</th>\n",
       "      <th>standart</th>\n",
       "      <th>with_std</th>\n",
       "      <th>with_PCA_and_std</th>\n",
       "      <th>for_slice</th>\n",
       "      <th>for_slice_with_std</th>\n",
       "      <th>for_slice_with_std_and_PCA</th>\n",
       "    </tr>\n",
       "  </thead>\n",
       "  <tbody>\n",
       "    <tr>\n",
       "      <th>0</th>\n",
       "      <td>Random Forest</td>\n",
       "      <td>0.512335</td>\n",
       "      <td>0.512335</td>\n",
       "      <td>NaN</td>\n",
       "      <td>0.476529</td>\n",
       "      <td>0.476529</td>\n",
       "      <td>NaN</td>\n",
       "    </tr>\n",
       "    <tr>\n",
       "      <th>1</th>\n",
       "      <td>Logistic Regression</td>\n",
       "      <td>0.476529</td>\n",
       "      <td>0.598576</td>\n",
       "      <td>0.598653</td>\n",
       "      <td>0.476529</td>\n",
       "      <td>0.600234</td>\n",
       "      <td>0.556979</td>\n",
       "    </tr>\n",
       "    <tr>\n",
       "      <th>2</th>\n",
       "      <td>Gradient Boosting</td>\n",
       "      <td>0.739431</td>\n",
       "      <td>0.739431</td>\n",
       "      <td>NaN</td>\n",
       "      <td>0.735935</td>\n",
       "      <td>0.735930</td>\n",
       "      <td>NaN</td>\n",
       "    </tr>\n",
       "  </tbody>\n",
       "</table>\n",
       "</div>"
      ],
      "text/plain": [
       "                 model  standart  with_std  with_PCA_and_std  for_slice  \\\n",
       "0        Random Forest  0.512335  0.512335               NaN   0.476529   \n",
       "1  Logistic Regression  0.476529  0.598576          0.598653   0.476529   \n",
       "2    Gradient Boosting  0.739431  0.739431               NaN   0.735935   \n",
       "\n",
       "   for_slice_with_std  for_slice_with_std_and_PCA  \n",
       "0            0.476529                         NaN  \n",
       "1            0.600234                    0.556979  \n",
       "2            0.735930                         NaN  "
      ]
     },
     "execution_count": 80,
     "metadata": {},
     "output_type": "execute_result"
    }
   ],
   "source": [
    "metrics_gb_with_std_pca = np.nan\n",
    "metrics_gb_slice_with_std_pca = np.nan\n",
    "result_for_gb = ['Gradient Boosting', metrics_gb, metrics_gb_with_std, metrics_gb_with_std_pca, \n",
    "                metrics_gb_slice, metrics_gb_slice_with_std, metrics_gb_slice_with_std_pca]\n",
    "df_result_for_gb = pd.DataFrame([result_for_gb], columns=columns_name)\n",
    "df_metrics_for_models = pd.concat([df_metrics_for_models, df_result_for_gb], axis=0, ignore_index=True)\n",
    "df_metrics_for_models"
   ]
  },
  {
   "cell_type": "markdown",
   "metadata": {},
   "source": [
    "#### Рассмотрим алгоритм knn"
   ]
  },
  {
   "cell_type": "code",
   "execution_count": 81,
   "metadata": {},
   "outputs": [
    {
     "name": "stdout",
     "output_type": "stream",
     "text": [
      "Wall time: 1h 14min 7s\n"
     ]
    },
    {
     "data": {
      "text/plain": [
       "0.5026651336703677"
      ]
     },
     "execution_count": 81,
     "metadata": {},
     "output_type": "execute_result"
    }
   ],
   "source": [
    "%%time\n",
    "pipeline_knn = Pipeline([('knn', KNeighborsClassifier())])\n",
    "trained_model_knn, y_preds_knn, metrics_knn = pipeline_preds(pipeline_knn, X_train, y_train, X_test, y_test_real)\n",
    "metrics_knn"
   ]
  },
  {
   "cell_type": "markdown",
   "metadata": {},
   "source": [
    "Добавим к алгоритму knn стандартизацию"
   ]
  },
  {
   "cell_type": "code",
   "execution_count": 82,
   "metadata": {},
   "outputs": [
    {
     "name": "stdout",
     "output_type": "stream",
     "text": [
      "Wall time: 1h 18min 31s\n",
      "Parser   : 127 ms\n"
     ]
    },
    {
     "data": {
      "text/plain": [
       "0.5287948164990199"
      ]
     },
     "execution_count": 82,
     "metadata": {},
     "output_type": "execute_result"
    }
   ],
   "source": [
    "%%time\n",
    "pipeline_knn_std = Pipeline([('standard_scaler', StandardScaler()), \n",
    "                                ('knn', KNeighborsClassifier())])\n",
    "trained_model_knn_std, y_preds_knn_with_std, metrics_knn_with_std = pipeline_preds(pipeline_knn_std, X_train, y_train,\n",
    "                                                                                   X_test, y_test_real)\n",
    "metrics_knn_with_std"
   ]
  },
  {
   "cell_type": "markdown",
   "metadata": {},
   "source": [
    "Добавим к алгоритму knn стандартизацию и PCA"
   ]
  },
  {
   "cell_type": "code",
   "execution_count": 83,
   "metadata": {},
   "outputs": [],
   "source": [
    "# %%time\n",
    "# pipeline_knn_std_pca = Pipeline([('pca', PCA()),\n",
    "#                                 ('standard_scaler', StandardScaler()), \n",
    "#                                 ('knn', KNeighborsClassifier())])\n",
    "# trained_model_knn_with_std_pca, y_preds_knn_with_std_pca, metrics_knn_with_std_pca = pipeline_preds(pipeline_knn_with_std_pca, \n",
    "#                                     X_train, y_train, X_test, y_test_real)\n",
    "# metrics_knn_with_std_pca"
   ]
  },
  {
   "cell_type": "markdown",
   "metadata": {},
   "source": [
    "Применим алгоритм knn к ограниченному набору признаков"
   ]
  },
  {
   "cell_type": "code",
   "execution_count": 84,
   "metadata": {},
   "outputs": [
    {
     "name": "stdout",
     "output_type": "stream",
     "text": [
      "Wall time: 1h 23s\n",
      "Parser   : 205 ms\n"
     ]
    },
    {
     "data": {
      "text/plain": [
       "0.5017611761540611"
      ]
     },
     "execution_count": 84,
     "metadata": {},
     "output_type": "execute_result"
    }
   ],
   "source": [
    "%%time\n",
    "pipeline_knn_with_slice = Pipeline([('knn', KNeighborsClassifier())])\n",
    "trained_model_knn_slice, y_preds_knn_slice, metrics_knn_slice = pipeline_preds(pipeline_knn_with_slice, \n",
    "                                    X_train_slice, y_train, X_test_slice, y_test_real)\n",
    "metrics_knn_slice"
   ]
  },
  {
   "cell_type": "markdown",
   "metadata": {},
   "source": [
    "Добавим к алгоритму knn для ограниченного набора признаков стандартизацию"
   ]
  },
  {
   "cell_type": "code",
   "execution_count": 85,
   "metadata": {},
   "outputs": [],
   "source": [
    "# %%time\n",
    "# pipeline_knn_with_slice_std = Pipeline([('standard_scaler', StandardScaler()), \n",
    "#                                 ('knn', KNeighborsClassifier())])\n",
    "# trained_model_knn_slice_with_std, y_preds_knn_slice_with_std, metrics_knn_slice_with_std = pipeline_preds(pipeline_knn_with_slice_std, \n",
    "#                                     X_train_slice, y_train, X_test_slice, y_test_real)\n",
    "# metrics_knn_slice_with_std"
   ]
  },
  {
   "cell_type": "markdown",
   "metadata": {},
   "source": [
    "Рассмотрим модель knn со стандартизацией данных и PCA для отобранной части признаков"
   ]
  },
  {
   "cell_type": "code",
   "execution_count": 86,
   "metadata": {},
   "outputs": [],
   "source": [
    "# %%time\n",
    "# pipeline_knn_with_slice_std_pca = Pipeline([('pca', PCA()),\n",
    "#                                 ('standard_scaler', StandardScaler()), \n",
    "#                                 ('knn', KNeighborsClassifier())])\n",
    "# trained_model_knn_slice_with_std_pca, y_preds_knn_slice_with_std_pca, metrics_knn_slice_with_std_pca = pipeline_preds(pipeline_knn_with_slice_std_pca, \n",
    "#                                     X_train_slice, y_train, X_test_slice, y_test_real)\n",
    "# metrics_knn_slice_with_std_pca"
   ]
  },
  {
   "cell_type": "code",
   "execution_count": 87,
   "metadata": {},
   "outputs": [
    {
     "data": {
      "text/html": [
       "<div>\n",
       "<style scoped>\n",
       "    .dataframe tbody tr th:only-of-type {\n",
       "        vertical-align: middle;\n",
       "    }\n",
       "\n",
       "    .dataframe tbody tr th {\n",
       "        vertical-align: top;\n",
       "    }\n",
       "\n",
       "    .dataframe thead th {\n",
       "        text-align: right;\n",
       "    }\n",
       "</style>\n",
       "<table border=\"1\" class=\"dataframe\">\n",
       "  <thead>\n",
       "    <tr style=\"text-align: right;\">\n",
       "      <th></th>\n",
       "      <th>model</th>\n",
       "      <th>standart</th>\n",
       "      <th>with_std</th>\n",
       "      <th>with_PCA_and_std</th>\n",
       "      <th>for_slice</th>\n",
       "      <th>for_slice_with_std</th>\n",
       "      <th>for_slice_with_std_and_PCA</th>\n",
       "    </tr>\n",
       "  </thead>\n",
       "  <tbody>\n",
       "    <tr>\n",
       "      <th>0</th>\n",
       "      <td>Random Forest</td>\n",
       "      <td>0.512335</td>\n",
       "      <td>0.512335</td>\n",
       "      <td>NaN</td>\n",
       "      <td>0.476529</td>\n",
       "      <td>0.476529</td>\n",
       "      <td>NaN</td>\n",
       "    </tr>\n",
       "    <tr>\n",
       "      <th>1</th>\n",
       "      <td>Logistic Regression</td>\n",
       "      <td>0.476529</td>\n",
       "      <td>0.598576</td>\n",
       "      <td>0.598653</td>\n",
       "      <td>0.476529</td>\n",
       "      <td>0.600234</td>\n",
       "      <td>0.556979</td>\n",
       "    </tr>\n",
       "    <tr>\n",
       "      <th>2</th>\n",
       "      <td>Gradient Boosting</td>\n",
       "      <td>0.739431</td>\n",
       "      <td>0.739431</td>\n",
       "      <td>NaN</td>\n",
       "      <td>0.735935</td>\n",
       "      <td>0.735930</td>\n",
       "      <td>NaN</td>\n",
       "    </tr>\n",
       "    <tr>\n",
       "      <th>3</th>\n",
       "      <td>K Neighbors Classifier</td>\n",
       "      <td>0.502665</td>\n",
       "      <td>0.528795</td>\n",
       "      <td>NaN</td>\n",
       "      <td>0.501761</td>\n",
       "      <td>NaN</td>\n",
       "      <td>NaN</td>\n",
       "    </tr>\n",
       "  </tbody>\n",
       "</table>\n",
       "</div>"
      ],
      "text/plain": [
       "                    model  standart  with_std  with_PCA_and_std  for_slice  \\\n",
       "0           Random Forest  0.512335  0.512335               NaN   0.476529   \n",
       "1     Logistic Regression  0.476529  0.598576          0.598653   0.476529   \n",
       "2       Gradient Boosting  0.739431  0.739431               NaN   0.735935   \n",
       "3  K Neighbors Classifier  0.502665  0.528795               NaN   0.501761   \n",
       "\n",
       "   for_slice_with_std  for_slice_with_std_and_PCA  \n",
       "0            0.476529                         NaN  \n",
       "1            0.600234                    0.556979  \n",
       "2            0.735930                         NaN  \n",
       "3                 NaN                         NaN  "
      ]
     },
     "execution_count": 87,
     "metadata": {},
     "output_type": "execute_result"
    }
   ],
   "source": [
    "metrics_knn_with_std_pca = np.nan\n",
    "metrics_knn_slice_with_std = np.nan\n",
    "metrics_knn_slice_with_std_pca = np.nan\n",
    "result_for_knn = ['K Neighbors Classifier', metrics_knn, metrics_knn_with_std, metrics_knn_with_std_pca, \n",
    "                metrics_knn_slice, metrics_knn_slice_with_std, metrics_knn_slice_with_std_pca]\n",
    "df_result_for_knn = pd.DataFrame([result_for_knn], columns=columns_name)\n",
    "df_metrics_for_models = pd.concat([df_metrics_for_models, df_result_for_knn], axis=0, ignore_index=True)\n",
    "df_metrics_for_models"
   ]
  },
  {
   "cell_type": "markdown",
   "metadata": {},
   "source": [
    "Наилучший результат дала модель GradientBoostingClassifier без стандартизации. Подберем гиперпараметры для этой модели"
   ]
  },
  {
   "cell_type": "code",
   "execution_count": null,
   "metadata": {},
   "outputs": [],
   "source": []
  },
  {
   "cell_type": "code",
   "execution_count": null,
   "metadata": {},
   "outputs": [],
   "source": [
    "%%time\n",
    "parameters = {'n_estimators': [50, 100, 200], 'max_depth': [1, 3, 5]}\n",
    "model_gb = GradientBoostingClassifier(random_state=21)\n",
    "f1 = make_scorer(f1_score, average='macro')\n",
    "grid_search_for_gb = GridSearchCV(model_gb, parameters, scoring=f1)\n",
    "grid_search_for_gb.fit(X_train, y_train)"
   ]
  },
  {
   "cell_type": "code",
   "execution_count": 92,
   "metadata": {},
   "outputs": [],
   "source": [
    "grid_search_for_gb.best_params_"
   ]
  },
  {
   "cell_type": "code",
   "execution_count": null,
   "metadata": {},
   "outputs": [],
   "source": [
    "grid_search_for_gb.cv_results_"
   ]
  },
  {
   "cell_type": "markdown",
   "metadata": {},
   "source": [
    "### Финальное обучение модели, сохранение модели и выполнение предсказания"
   ]
  },
  {
   "cell_type": "code",
   "execution_count": null,
   "metadata": {},
   "outputs": [],
   "source": [
    "X_train_final = full_train.drop(columns=['target'])\n",
    "y_train_final = full_train.target"
   ]
  },
  {
   "cell_type": "code",
   "execution_count": null,
   "metadata": {},
   "outputs": [],
   "source": [
    "del full_train"
   ]
  },
  {
   "cell_type": "code",
   "execution_count": null,
   "metadata": {},
   "outputs": [],
   "source": [
    "best_model = GradientBoostingClassifier(random_state=21, max_depth=1, n_estimators=100)"
   ]
  },
  {
   "cell_type": "code",
   "execution_count": null,
   "metadata": {},
   "outputs": [],
   "source": [
    "best_model.fit(X_train_final, y_train_final)"
   ]
  },
  {
   "cell_type": "code",
   "execution_count": null,
   "metadata": {},
   "outputs": [],
   "source": [
    "with open('best_model.pkl', 'wb') as f:\n",
    "    pickle.dump(best_model, f)"
   ]
  },
  {
   "cell_type": "code",
   "execution_count": null,
   "metadata": {},
   "outputs": [],
   "source": [
    "y_predict_final = best_model.predict(full_test)"
   ]
  },
  {
   "cell_type": "code",
   "execution_count": null,
   "metadata": {},
   "outputs": [],
   "source": [
    "full_test_result['target'] = y_predict_final"
   ]
  },
  {
   "cell_type": "code",
   "execution_count": null,
   "metadata": {},
   "outputs": [],
   "source": [
    "result = full_test_result[['id', 'vas_id', 'buy_time', 'target']].reset_index(drop=True)"
   ]
  },
  {
   "cell_type": "code",
   "execution_count": null,
   "metadata": {},
   "outputs": [],
   "source": [
    "result.head()"
   ]
  },
  {
   "cell_type": "code",
   "execution_count": null,
   "metadata": {},
   "outputs": [],
   "source": [
    "result.to_csv('answers_test.csv')"
   ]
  },
  {
   "cell_type": "code",
   "execution_count": null,
   "metadata": {},
   "outputs": [],
   "source": [
    "with open('best_model.pkl', 'rb') as file: \n",
    "    pickle_model = pickle.load(file) "
   ]
  },
  {
   "cell_type": "code",
   "execution_count": null,
   "metadata": {},
   "outputs": [],
   "source": [
    "pickle_model.predict(full_test)"
   ]
  }
 ],
 "metadata": {
  "kernelspec": {
   "display_name": "Python 3",
   "language": "python",
   "name": "python3"
  },
  "language_info": {
   "codemirror_mode": {
    "name": "ipython",
    "version": 3
   },
   "file_extension": ".py",
   "mimetype": "text/x-python",
   "name": "python",
   "nbconvert_exporter": "python",
   "pygments_lexer": "ipython3",
   "version": "3.8.5"
  }
 },
 "nbformat": 4,
 "nbformat_minor": 4
}
